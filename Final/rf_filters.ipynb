{
 "cells": [
  {
   "cell_type": "code",
   "execution_count": 1,
   "metadata": {},
   "outputs": [],
   "source": [
    "import os\n",
    "import pandas as pd\n",
    "import numpy as np\n",
    "from sklearn.model_selection import train_test_split\n",
    "from sklearn.ensemble import RandomForestClassifier\n",
    "from sklearn.model_selection import GridSearchCV\n",
    "from sklearn.preprocessing import LabelEncoder\n",
    "from sklearn.model_selection import cross_val_score\n",
    "import scipy.stats as stats\n",
    "import scipy.signal as signal"
   ]
  },
  {
   "cell_type": "code",
   "execution_count": 2,
   "metadata": {},
   "outputs": [],
   "source": [
    "def normalize(df):\n",
    "    \n",
    "    for column in ['x', 'y', 'z']:\n",
    "        df[column] = (df[column] - df[column].mean()) / df[column].std()\n",
    "    df = pd.DataFrame(df[['x', 'y', 'z']])\n",
    "    return df\n",
    "\n",
    "def segment(df, window_size, step_size):\n",
    "    segments = []\n",
    "    for start in range(0, len(df) - window_size + 1, step_size):\n",
    "        end = start + window_size\n",
    "\n",
    "        \\\n",
    "        segment = df.iloc[start:end]\n",
    "        segments.append(segment)\n",
    "    return segments"
   ]
  },
  {
   "cell_type": "code",
   "execution_count": 3,
   "metadata": {},
   "outputs": [],
   "source": [
    "def segment_activities(window_size=32, step_size=16):\n",
    "    # window_size = 160  # 2.5 seconds\n",
    "    # step_size = 20  # 75% overlap\n",
    "\n",
    "    activities_path = 'Final/Activity'\n",
    "    activity_segments = {}\n",
    "\n",
    "    # Iterate over each activity's folder\n",
    "    for activity_name in os.listdir(activities_path):\n",
    "        print(activity_name)\n",
    "        activity_folder = os.path.join(activities_path, activity_name)\n",
    "        if os.path.isdir(activity_folder):\n",
    "            # Store segments for each activity\n",
    "            activity_segments[activity_name] = []\n",
    "            \n",
    "            # Iterate over each CSV file within the activity's folder\n",
    "            for filename in os.listdir(activity_folder):\n",
    "                if filename.endswith('.csv'):\n",
    "                    file_path = os.path.join(activity_folder, filename)\n",
    "                    \n",
    "                    # Read  CSV file\n",
    "                    df = pd.read_csv(file_path)\n",
    "                    \n",
    "                    # Normalize data\n",
    "                    df_normalized = normalize(df)\n",
    "                    \n",
    "                    # Segment the data using a rolling window\n",
    "                    segments = segment(df_normalized, window_size, step_size)\n",
    "                    \n",
    "                    # Append the segments to the activity's list\n",
    "                    activity_segments[activity_name].extend(segments)\n",
    "    return activity_segments\n"
   ]
  },
  {
   "cell_type": "code",
   "execution_count": 4,
   "metadata": {},
   "outputs": [],
   "source": [
    "def fit_model(activity_segments):\n",
    "    X, y = [], []\n",
    "\n",
    "\n",
    "    # Convert the segments into a suitable format for training\n",
    "    for activity_name, segments in activity_segments.items():\n",
    "        for segment in segments:\n",
    "            X.append(segment.to_numpy())  # Assuming segment is a pandas DataFrame\n",
    "            y.append(activity_name)\n",
    "    X = np.array(X)\n",
    "    y = np.array(y)\n",
    "    print(\"segments in suitable format\")\n",
    "\n",
    "\n",
    "    # Encode the activity labels into integers\n",
    "    le = LabelEncoder()\n",
    "    y_encoded = le.fit_transform(y)\n",
    "    print(\"labels encoded\")\n",
    "    # Split data into training and test sets\n",
    "    X_train, X_test, y_train, y_test = train_test_split(X, y_encoded, test_size=0.2, random_state=42)\n",
    "    #reshape for rf model\n",
    "    X_train = X_train.reshape(X_train.shape[0], -1)\n",
    "    X_test = X_test.reshape(X_test.shape[0], -1)\n",
    "\n",
    "    #model stuff\n",
    "    # Define the Random Forest model\n",
    "    model = RandomForestClassifier(n_estimators=100, random_state=42)\n",
    "\n",
    "    print(\"training model\")\n",
    "    # Train the model\n",
    "    model.fit(X_train, y_train)\n",
    "\n",
    "    # Evaluate the model\n",
    "    accuracy = model.score(X_test, y_test)\n",
    "    print(f\"Model accuracy: {accuracy}\")\n",
    "\n",
    "    return model\n",
    "\n"
   ]
  },
  {
   "cell_type": "markdown",
   "metadata": {},
   "source": [
    "# No filter"
   ]
  },
  {
   "cell_type": "markdown",
   "metadata": {},
   "source": [
    "#### 1 second"
   ]
  },
  {
   "cell_type": "code",
   "execution_count": 5,
   "metadata": {},
   "outputs": [
    {
     "name": "stdout",
     "output_type": "stream",
     "text": [
      "B1_T1_ (WALK)\n",
      "B1_T2_ (WALK)\n",
      "B1_TWT_A_ (WALK)\n",
      "B1_TWT_B_ (WALK)\n",
      "B2_T1_ (WALK)\n",
      "B2_T2_ (WALK)\n",
      "B2_TWT_A_ (WALK)\n",
      "B2_TWT_B_ (WALK)\n",
      "DSST_ digit symbol task_ (SIT)\n",
      "HR Recovery_ (STAND or SIT)\n",
      "MoCA_ Montreal Cognitive Assessment_ (SIT)\n",
      "Motor Behavioral Task_ (All conditions seen here)\n",
      "Naughton Test_ (WALK)\n",
      "SOT_ (STAND)\n",
      "TM Comfortable Speed_ (WALK)\n",
      "TMT_ trail making task_ (SIT)\n",
      "TWT_A Training_ (WALK)\n",
      "TWT_B Training_ (WALK)\n",
      "segments in suitable format\n",
      "labels encoded\n",
      "training model\n",
      "Model accuracy: 0.7734623871928794\n",
      "B1_T1_ (WALK)\n",
      "B1_T2_ (WALK)\n",
      "B1_TWT_A_ (WALK)\n",
      "B1_TWT_B_ (WALK)\n",
      "B2_T1_ (WALK)\n",
      "B2_T2_ (WALK)\n",
      "B2_TWT_A_ (WALK)\n",
      "B2_TWT_B_ (WALK)\n",
      "DSST_ digit symbol task_ (SIT)\n",
      "HR Recovery_ (STAND or SIT)\n",
      "MoCA_ Montreal Cognitive Assessment_ (SIT)\n",
      "Motor Behavioral Task_ (All conditions seen here)\n",
      "Naughton Test_ (WALK)\n",
      "SOT_ (STAND)\n",
      "TM Comfortable Speed_ (WALK)\n",
      "TMT_ trail making task_ (SIT)\n",
      "TWT_A Training_ (WALK)\n",
      "TWT_B Training_ (WALK)\n",
      "segments in suitable format\n",
      "labels encoded\n",
      "training model\n",
      "Model accuracy: 0.7355246573744513\n",
      "B1_T1_ (WALK)\n",
      "B1_T2_ (WALK)\n",
      "B1_TWT_A_ (WALK)\n",
      "B1_TWT_B_ (WALK)\n",
      "B2_T1_ (WALK)\n",
      "B2_T2_ (WALK)\n",
      "B2_TWT_A_ (WALK)\n",
      "B2_TWT_B_ (WALK)\n",
      "DSST_ digit symbol task_ (SIT)\n",
      "HR Recovery_ (STAND or SIT)\n",
      "MoCA_ Montreal Cognitive Assessment_ (SIT)\n",
      "Motor Behavioral Task_ (All conditions seen here)\n",
      "Naughton Test_ (WALK)\n",
      "SOT_ (STAND)\n",
      "TM Comfortable Speed_ (WALK)\n",
      "TMT_ trail making task_ (SIT)\n",
      "TWT_A Training_ (WALK)\n",
      "TWT_B Training_ (WALK)\n",
      "segments in suitable format\n",
      "labels encoded\n",
      "training model\n",
      "Model accuracy: 0.6971334626565104\n"
     ]
    }
   ],
   "source": [
    "activity_segments = segment_activities(32,2) #1/16\n",
    "model = fit_model(activity_segments)\n",
    "activity_segments = segment_activities(32,4) #1/8\n",
    "model = fit_model(activity_segments)\n",
    "activity_segments = segment_activities(32,8) #1/4\n",
    "model = fit_model(activity_segments)"
   ]
  },
  {
   "cell_type": "markdown",
   "metadata": {},
   "source": [
    "#### 3 Second"
   ]
  },
  {
   "cell_type": "code",
   "execution_count": 6,
   "metadata": {},
   "outputs": [
    {
     "name": "stdout",
     "output_type": "stream",
     "text": [
      "B1_T1_ (WALK)\n",
      "B1_T2_ (WALK)\n",
      "B1_TWT_A_ (WALK)\n",
      "B1_TWT_B_ (WALK)\n",
      "B2_T1_ (WALK)\n",
      "B2_T2_ (WALK)\n",
      "B2_TWT_A_ (WALK)\n",
      "B2_TWT_B_ (WALK)\n",
      "DSST_ digit symbol task_ (SIT)\n",
      "HR Recovery_ (STAND or SIT)\n",
      "MoCA_ Montreal Cognitive Assessment_ (SIT)\n",
      "Motor Behavioral Task_ (All conditions seen here)\n",
      "Naughton Test_ (WALK)\n",
      "SOT_ (STAND)\n",
      "TM Comfortable Speed_ (WALK)\n",
      "TMT_ trail making task_ (SIT)\n",
      "TWT_A Training_ (WALK)\n",
      "TWT_B Training_ (WALK)\n",
      "segments in suitable format\n",
      "labels encoded\n",
      "training model\n",
      "Model accuracy: 0.7066985584403894\n",
      "B1_T1_ (WALK)\n",
      "B1_T2_ (WALK)\n",
      "B1_TWT_A_ (WALK)\n",
      "B1_TWT_B_ (WALK)\n",
      "B2_T1_ (WALK)\n",
      "B2_T2_ (WALK)\n",
      "B2_TWT_A_ (WALK)\n",
      "B2_TWT_B_ (WALK)\n",
      "DSST_ digit symbol task_ (SIT)\n",
      "HR Recovery_ (STAND or SIT)\n",
      "MoCA_ Montreal Cognitive Assessment_ (SIT)\n",
      "Motor Behavioral Task_ (All conditions seen here)\n",
      "Naughton Test_ (WALK)\n",
      "SOT_ (STAND)\n",
      "TM Comfortable Speed_ (WALK)\n",
      "TMT_ trail making task_ (SIT)\n",
      "TWT_A Training_ (WALK)\n",
      "TWT_B Training_ (WALK)\n",
      "segments in suitable format\n",
      "labels encoded\n",
      "training model\n",
      "Model accuracy: 0.6700006856594329\n",
      "B1_T1_ (WALK)\n",
      "B1_T2_ (WALK)\n",
      "B1_TWT_A_ (WALK)\n",
      "B1_TWT_B_ (WALK)\n",
      "B2_T1_ (WALK)\n",
      "B2_T2_ (WALK)\n",
      "B2_TWT_A_ (WALK)\n",
      "B2_TWT_B_ (WALK)\n",
      "DSST_ digit symbol task_ (SIT)\n",
      "HR Recovery_ (STAND or SIT)\n",
      "MoCA_ Montreal Cognitive Assessment_ (SIT)\n",
      "Motor Behavioral Task_ (All conditions seen here)\n",
      "Naughton Test_ (WALK)\n",
      "SOT_ (STAND)\n",
      "TM Comfortable Speed_ (WALK)\n",
      "TMT_ trail making task_ (SIT)\n",
      "TWT_A Training_ (WALK)\n",
      "TWT_B Training_ (WALK)\n",
      "segments in suitable format\n",
      "labels encoded\n",
      "training model\n",
      "Model accuracy: 0.6289938496856315\n"
     ]
    }
   ],
   "source": [
    "activity_segments = segment_activities(96,6) #1/16\n",
    "model = fit_model(activity_segments)\n",
    "activity_segments = segment_activities(96,12) #1/8\n",
    "model = fit_model(activity_segments)\n",
    "activity_segments = segment_activities(96,24) #1/4\n",
    "model = fit_model(activity_segments)"
   ]
  },
  {
   "cell_type": "markdown",
   "metadata": {},
   "source": [
    "#### 5 Second"
   ]
  },
  {
   "cell_type": "code",
   "execution_count": 7,
   "metadata": {},
   "outputs": [
    {
     "name": "stdout",
     "output_type": "stream",
     "text": [
      "B1_T1_ (WALK)\n",
      "B1_T2_ (WALK)\n",
      "B1_TWT_A_ (WALK)\n",
      "B1_TWT_B_ (WALK)\n",
      "B2_T1_ (WALK)\n",
      "B2_T2_ (WALK)\n",
      "B2_TWT_A_ (WALK)\n",
      "B2_TWT_B_ (WALK)\n",
      "DSST_ digit symbol task_ (SIT)\n",
      "HR Recovery_ (STAND or SIT)\n",
      "MoCA_ Montreal Cognitive Assessment_ (SIT)\n",
      "Motor Behavioral Task_ (All conditions seen here)\n",
      "Naughton Test_ (WALK)\n",
      "SOT_ (STAND)\n",
      "TM Comfortable Speed_ (WALK)\n",
      "TMT_ trail making task_ (SIT)\n",
      "TWT_A Training_ (WALK)\n",
      "TWT_B Training_ (WALK)\n",
      "segments in suitable format\n",
      "labels encoded\n",
      "training model\n",
      "Model accuracy: 0.6767139013452915\n",
      "B1_T1_ (WALK)\n",
      "B1_T2_ (WALK)\n",
      "B1_TWT_A_ (WALK)\n",
      "B1_TWT_B_ (WALK)\n",
      "B2_T1_ (WALK)\n",
      "B2_T2_ (WALK)\n",
      "B2_TWT_A_ (WALK)\n",
      "B2_TWT_B_ (WALK)\n",
      "DSST_ digit symbol task_ (SIT)\n",
      "HR Recovery_ (STAND or SIT)\n",
      "MoCA_ Montreal Cognitive Assessment_ (SIT)\n",
      "Motor Behavioral Task_ (All conditions seen here)\n",
      "Naughton Test_ (WALK)\n",
      "SOT_ (STAND)\n",
      "TM Comfortable Speed_ (WALK)\n",
      "TMT_ trail making task_ (SIT)\n",
      "TWT_A Training_ (WALK)\n",
      "TWT_B Training_ (WALK)\n",
      "segments in suitable format\n",
      "labels encoded\n",
      "training model\n",
      "Model accuracy: 0.632977121136054\n",
      "B1_T1_ (WALK)\n",
      "B1_T2_ (WALK)\n",
      "B1_TWT_A_ (WALK)\n",
      "B1_TWT_B_ (WALK)\n",
      "B2_T1_ (WALK)\n",
      "B2_T2_ (WALK)\n",
      "B2_TWT_A_ (WALK)\n",
      "B2_TWT_B_ (WALK)\n",
      "DSST_ digit symbol task_ (SIT)\n",
      "HR Recovery_ (STAND or SIT)\n",
      "MoCA_ Montreal Cognitive Assessment_ (SIT)\n",
      "Motor Behavioral Task_ (All conditions seen here)\n",
      "Naughton Test_ (WALK)\n",
      "SOT_ (STAND)\n",
      "TM Comfortable Speed_ (WALK)\n",
      "TMT_ trail making task_ (SIT)\n",
      "TWT_A Training_ (WALK)\n",
      "TWT_B Training_ (WALK)\n",
      "segments in suitable format\n",
      "labels encoded\n",
      "training model\n",
      "Model accuracy: 0.5942265795206971\n"
     ]
    }
   ],
   "source": [
    "activity_segments = segment_activities(160,10) #1/16\n",
    "model = fit_model(activity_segments)\n",
    "activity_segments = segment_activities(160,20) #1/8\n",
    "model = fit_model(activity_segments)\n",
    "activity_segments = segment_activities(160,40) #1/4\n",
    "model = fit_model(activity_segments)"
   ]
  },
  {
   "cell_type": "markdown",
   "metadata": {},
   "source": [
    "# Mean Filter"
   ]
  },
  {
   "cell_type": "code",
   "execution_count": 8,
   "metadata": {},
   "outputs": [],
   "source": [
    "def windowed_mean(input_df):\n",
    "    input_x = np.array(input_df.loc[:, \"x\"])\n",
    "    input_y = np.array(input_df.loc[:, \"y\"])\n",
    "    input_z = np.array(input_df.loc[:, \"z\"])\n",
    "\n",
    "    return np.mean(input_x), np.mean(input_y), np.mean(input_z)\n",
    "\n",
    "def normalize(df):\n",
    "    \n",
    "    x, y, z = windowed_mean(df)\n",
    "    df = pd.DataFrame(df[['x', 'y', 'z']])\n",
    "    return df"
   ]
  },
  {
   "cell_type": "markdown",
   "metadata": {},
   "source": [
    "#### 1 second"
   ]
  },
  {
   "cell_type": "code",
   "execution_count": 9,
   "metadata": {},
   "outputs": [
    {
     "name": "stdout",
     "output_type": "stream",
     "text": [
      "B1_T1_ (WALK)\n",
      "B1_T2_ (WALK)\n",
      "B1_TWT_A_ (WALK)\n",
      "B1_TWT_B_ (WALK)\n",
      "B2_T1_ (WALK)\n",
      "B2_T2_ (WALK)\n",
      "B2_TWT_A_ (WALK)\n",
      "B2_TWT_B_ (WALK)\n",
      "DSST_ digit symbol task_ (SIT)\n",
      "HR Recovery_ (STAND or SIT)\n",
      "MoCA_ Montreal Cognitive Assessment_ (SIT)\n",
      "Motor Behavioral Task_ (All conditions seen here)\n",
      "Naughton Test_ (WALK)\n",
      "SOT_ (STAND)\n",
      "TM Comfortable Speed_ (WALK)\n",
      "TMT_ trail making task_ (SIT)\n",
      "TWT_A Training_ (WALK)\n",
      "TWT_B Training_ (WALK)\n",
      "segments in suitable format\n",
      "labels encoded\n",
      "training model\n",
      "Model accuracy: 0.48035665759419743\n",
      "B1_T1_ (WALK)\n",
      "B1_T2_ (WALK)\n",
      "B1_TWT_A_ (WALK)\n",
      "B1_TWT_B_ (WALK)\n",
      "B2_T1_ (WALK)\n",
      "B2_T2_ (WALK)\n",
      "B2_TWT_A_ (WALK)\n",
      "B2_TWT_B_ (WALK)\n",
      "DSST_ digit symbol task_ (SIT)\n",
      "HR Recovery_ (STAND or SIT)\n",
      "MoCA_ Montreal Cognitive Assessment_ (SIT)\n",
      "Motor Behavioral Task_ (All conditions seen here)\n",
      "Naughton Test_ (WALK)\n",
      "SOT_ (STAND)\n",
      "TM Comfortable Speed_ (WALK)\n",
      "TMT_ trail making task_ (SIT)\n",
      "TWT_A Training_ (WALK)\n",
      "TWT_B Training_ (WALK)\n",
      "segments in suitable format\n",
      "labels encoded\n",
      "training model\n"
     ]
    },
    {
     "ename": "MemoryError",
     "evalue": "could not allocate 150994944 bytes",
     "output_type": "error",
     "traceback": [
      "\u001b[1;31m---------------------------------------------------------------------------\u001b[0m",
      "\u001b[1;31mMemoryError\u001b[0m                               Traceback (most recent call last)",
      "Cell \u001b[1;32mIn[9], line 4\u001b[0m\n\u001b[0;32m      2\u001b[0m model \u001b[38;5;241m=\u001b[39m fit_model(activity_segments)\n\u001b[0;32m      3\u001b[0m activity_segments \u001b[38;5;241m=\u001b[39m segment_activities(\u001b[38;5;241m32\u001b[39m,\u001b[38;5;241m4\u001b[39m) \u001b[38;5;66;03m#1/8\u001b[39;00m\n\u001b[1;32m----> 4\u001b[0m model \u001b[38;5;241m=\u001b[39m \u001b[43mfit_model\u001b[49m\u001b[43m(\u001b[49m\u001b[43mactivity_segments\u001b[49m\u001b[43m)\u001b[49m\n\u001b[0;32m      5\u001b[0m activity_segments \u001b[38;5;241m=\u001b[39m segment_activities(\u001b[38;5;241m32\u001b[39m,\u001b[38;5;241m8\u001b[39m) \u001b[38;5;66;03m#1/4\u001b[39;00m\n\u001b[0;32m      6\u001b[0m model \u001b[38;5;241m=\u001b[39m fit_model(activity_segments)\n",
      "Cell \u001b[1;32mIn[4], line 31\u001b[0m, in \u001b[0;36mfit_model\u001b[1;34m(activity_segments)\u001b[0m\n\u001b[0;32m     29\u001b[0m \u001b[38;5;28mprint\u001b[39m(\u001b[38;5;124m\"\u001b[39m\u001b[38;5;124mtraining model\u001b[39m\u001b[38;5;124m\"\u001b[39m)\n\u001b[0;32m     30\u001b[0m \u001b[38;5;66;03m# Train the model\u001b[39;00m\n\u001b[1;32m---> 31\u001b[0m \u001b[43mmodel\u001b[49m\u001b[38;5;241;43m.\u001b[39;49m\u001b[43mfit\u001b[49m\u001b[43m(\u001b[49m\u001b[43mX_train\u001b[49m\u001b[43m,\u001b[49m\u001b[43m \u001b[49m\u001b[43my_train\u001b[49m\u001b[43m)\u001b[49m\n\u001b[0;32m     33\u001b[0m \u001b[38;5;66;03m# Evaluate the model\u001b[39;00m\n\u001b[0;32m     34\u001b[0m accuracy \u001b[38;5;241m=\u001b[39m model\u001b[38;5;241m.\u001b[39mscore(X_test, y_test)\n",
      "File \u001b[1;32mc:\\Users\\kacia\\AppData\\Local\\Programs\\Python\\Python311\\Lib\\site-packages\\sklearn\\base.py:1152\u001b[0m, in \u001b[0;36m_fit_context.<locals>.decorator.<locals>.wrapper\u001b[1;34m(estimator, *args, **kwargs)\u001b[0m\n\u001b[0;32m   1145\u001b[0m     estimator\u001b[38;5;241m.\u001b[39m_validate_params()\n\u001b[0;32m   1147\u001b[0m \u001b[38;5;28;01mwith\u001b[39;00m config_context(\n\u001b[0;32m   1148\u001b[0m     skip_parameter_validation\u001b[38;5;241m=\u001b[39m(\n\u001b[0;32m   1149\u001b[0m         prefer_skip_nested_validation \u001b[38;5;129;01mor\u001b[39;00m global_skip_validation\n\u001b[0;32m   1150\u001b[0m     )\n\u001b[0;32m   1151\u001b[0m ):\n\u001b[1;32m-> 1152\u001b[0m     \u001b[38;5;28;01mreturn\u001b[39;00m \u001b[43mfit_method\u001b[49m\u001b[43m(\u001b[49m\u001b[43mestimator\u001b[49m\u001b[43m,\u001b[49m\u001b[43m \u001b[49m\u001b[38;5;241;43m*\u001b[39;49m\u001b[43margs\u001b[49m\u001b[43m,\u001b[49m\u001b[43m \u001b[49m\u001b[38;5;241;43m*\u001b[39;49m\u001b[38;5;241;43m*\u001b[39;49m\u001b[43mkwargs\u001b[49m\u001b[43m)\u001b[49m\n",
      "File \u001b[1;32mc:\\Users\\kacia\\AppData\\Local\\Programs\\Python\\Python311\\Lib\\site-packages\\sklearn\\ensemble\\_forest.py:456\u001b[0m, in \u001b[0;36mBaseForest.fit\u001b[1;34m(self, X, y, sample_weight)\u001b[0m\n\u001b[0;32m    445\u001b[0m trees \u001b[38;5;241m=\u001b[39m [\n\u001b[0;32m    446\u001b[0m     \u001b[38;5;28mself\u001b[39m\u001b[38;5;241m.\u001b[39m_make_estimator(append\u001b[38;5;241m=\u001b[39m\u001b[38;5;28;01mFalse\u001b[39;00m, random_state\u001b[38;5;241m=\u001b[39mrandom_state)\n\u001b[0;32m    447\u001b[0m     \u001b[38;5;28;01mfor\u001b[39;00m i \u001b[38;5;129;01min\u001b[39;00m \u001b[38;5;28mrange\u001b[39m(n_more_estimators)\n\u001b[0;32m    448\u001b[0m ]\n\u001b[0;32m    450\u001b[0m \u001b[38;5;66;03m# Parallel loop: we prefer the threading backend as the Cython code\u001b[39;00m\n\u001b[0;32m    451\u001b[0m \u001b[38;5;66;03m# for fitting the trees is internally releasing the Python GIL\u001b[39;00m\n\u001b[0;32m    452\u001b[0m \u001b[38;5;66;03m# making threading more efficient than multiprocessing in\u001b[39;00m\n\u001b[0;32m    453\u001b[0m \u001b[38;5;66;03m# that case. However, for joblib 0.12+ we respect any\u001b[39;00m\n\u001b[0;32m    454\u001b[0m \u001b[38;5;66;03m# parallel_backend contexts set at a higher level,\u001b[39;00m\n\u001b[0;32m    455\u001b[0m \u001b[38;5;66;03m# since correctness does not rely on using threads.\u001b[39;00m\n\u001b[1;32m--> 456\u001b[0m trees \u001b[38;5;241m=\u001b[39m \u001b[43mParallel\u001b[49m\u001b[43m(\u001b[49m\n\u001b[0;32m    457\u001b[0m \u001b[43m    \u001b[49m\u001b[43mn_jobs\u001b[49m\u001b[38;5;241;43m=\u001b[39;49m\u001b[38;5;28;43mself\u001b[39;49m\u001b[38;5;241;43m.\u001b[39;49m\u001b[43mn_jobs\u001b[49m\u001b[43m,\u001b[49m\n\u001b[0;32m    458\u001b[0m \u001b[43m    \u001b[49m\u001b[43mverbose\u001b[49m\u001b[38;5;241;43m=\u001b[39;49m\u001b[38;5;28;43mself\u001b[39;49m\u001b[38;5;241;43m.\u001b[39;49m\u001b[43mverbose\u001b[49m\u001b[43m,\u001b[49m\n\u001b[0;32m    459\u001b[0m \u001b[43m    \u001b[49m\u001b[43mprefer\u001b[49m\u001b[38;5;241;43m=\u001b[39;49m\u001b[38;5;124;43m\"\u001b[39;49m\u001b[38;5;124;43mthreads\u001b[39;49m\u001b[38;5;124;43m\"\u001b[39;49m\u001b[43m,\u001b[49m\n\u001b[0;32m    460\u001b[0m \u001b[43m\u001b[49m\u001b[43m)\u001b[49m\u001b[43m(\u001b[49m\n\u001b[0;32m    461\u001b[0m \u001b[43m    \u001b[49m\u001b[43mdelayed\u001b[49m\u001b[43m(\u001b[49m\u001b[43m_parallel_build_trees\u001b[49m\u001b[43m)\u001b[49m\u001b[43m(\u001b[49m\n\u001b[0;32m    462\u001b[0m \u001b[43m        \u001b[49m\u001b[43mt\u001b[49m\u001b[43m,\u001b[49m\n\u001b[0;32m    463\u001b[0m \u001b[43m        \u001b[49m\u001b[38;5;28;43mself\u001b[39;49m\u001b[38;5;241;43m.\u001b[39;49m\u001b[43mbootstrap\u001b[49m\u001b[43m,\u001b[49m\n\u001b[0;32m    464\u001b[0m \u001b[43m        \u001b[49m\u001b[43mX\u001b[49m\u001b[43m,\u001b[49m\n\u001b[0;32m    465\u001b[0m \u001b[43m        \u001b[49m\u001b[43my\u001b[49m\u001b[43m,\u001b[49m\n\u001b[0;32m    466\u001b[0m \u001b[43m        \u001b[49m\u001b[43msample_weight\u001b[49m\u001b[43m,\u001b[49m\n\u001b[0;32m    467\u001b[0m \u001b[43m        \u001b[49m\u001b[43mi\u001b[49m\u001b[43m,\u001b[49m\n\u001b[0;32m    468\u001b[0m \u001b[43m        \u001b[49m\u001b[38;5;28;43mlen\u001b[39;49m\u001b[43m(\u001b[49m\u001b[43mtrees\u001b[49m\u001b[43m)\u001b[49m\u001b[43m,\u001b[49m\n\u001b[0;32m    469\u001b[0m \u001b[43m        \u001b[49m\u001b[43mverbose\u001b[49m\u001b[38;5;241;43m=\u001b[39;49m\u001b[38;5;28;43mself\u001b[39;49m\u001b[38;5;241;43m.\u001b[39;49m\u001b[43mverbose\u001b[49m\u001b[43m,\u001b[49m\n\u001b[0;32m    470\u001b[0m \u001b[43m        \u001b[49m\u001b[43mclass_weight\u001b[49m\u001b[38;5;241;43m=\u001b[39;49m\u001b[38;5;28;43mself\u001b[39;49m\u001b[38;5;241;43m.\u001b[39;49m\u001b[43mclass_weight\u001b[49m\u001b[43m,\u001b[49m\n\u001b[0;32m    471\u001b[0m \u001b[43m        \u001b[49m\u001b[43mn_samples_bootstrap\u001b[49m\u001b[38;5;241;43m=\u001b[39;49m\u001b[43mn_samples_bootstrap\u001b[49m\u001b[43m,\u001b[49m\n\u001b[0;32m    472\u001b[0m \u001b[43m    \u001b[49m\u001b[43m)\u001b[49m\n\u001b[0;32m    473\u001b[0m \u001b[43m    \u001b[49m\u001b[38;5;28;43;01mfor\u001b[39;49;00m\u001b[43m \u001b[49m\u001b[43mi\u001b[49m\u001b[43m,\u001b[49m\u001b[43m \u001b[49m\u001b[43mt\u001b[49m\u001b[43m \u001b[49m\u001b[38;5;129;43;01min\u001b[39;49;00m\u001b[43m \u001b[49m\u001b[38;5;28;43menumerate\u001b[39;49m\u001b[43m(\u001b[49m\u001b[43mtrees\u001b[49m\u001b[43m)\u001b[49m\n\u001b[0;32m    474\u001b[0m \u001b[43m\u001b[49m\u001b[43m)\u001b[49m\n\u001b[0;32m    476\u001b[0m \u001b[38;5;66;03m# Collect newly grown trees\u001b[39;00m\n\u001b[0;32m    477\u001b[0m \u001b[38;5;28mself\u001b[39m\u001b[38;5;241m.\u001b[39mestimators_\u001b[38;5;241m.\u001b[39mextend(trees)\n",
      "File \u001b[1;32mc:\\Users\\kacia\\AppData\\Local\\Programs\\Python\\Python311\\Lib\\site-packages\\sklearn\\utils\\parallel.py:65\u001b[0m, in \u001b[0;36mParallel.__call__\u001b[1;34m(self, iterable)\u001b[0m\n\u001b[0;32m     60\u001b[0m config \u001b[38;5;241m=\u001b[39m get_config()\n\u001b[0;32m     61\u001b[0m iterable_with_config \u001b[38;5;241m=\u001b[39m (\n\u001b[0;32m     62\u001b[0m     (_with_config(delayed_func, config), args, kwargs)\n\u001b[0;32m     63\u001b[0m     \u001b[38;5;28;01mfor\u001b[39;00m delayed_func, args, kwargs \u001b[38;5;129;01min\u001b[39;00m iterable\n\u001b[0;32m     64\u001b[0m )\n\u001b[1;32m---> 65\u001b[0m \u001b[38;5;28;01mreturn\u001b[39;00m \u001b[38;5;28;43msuper\u001b[39;49m\u001b[43m(\u001b[49m\u001b[43m)\u001b[49m\u001b[38;5;241;43m.\u001b[39;49m\u001b[38;5;21;43m__call__\u001b[39;49m\u001b[43m(\u001b[49m\u001b[43miterable_with_config\u001b[49m\u001b[43m)\u001b[49m\n",
      "File \u001b[1;32mc:\\Users\\kacia\\AppData\\Local\\Programs\\Python\\Python311\\Lib\\site-packages\\joblib\\parallel.py:1863\u001b[0m, in \u001b[0;36mParallel.__call__\u001b[1;34m(self, iterable)\u001b[0m\n\u001b[0;32m   1861\u001b[0m     output \u001b[38;5;241m=\u001b[39m \u001b[38;5;28mself\u001b[39m\u001b[38;5;241m.\u001b[39m_get_sequential_output(iterable)\n\u001b[0;32m   1862\u001b[0m     \u001b[38;5;28mnext\u001b[39m(output)\n\u001b[1;32m-> 1863\u001b[0m     \u001b[38;5;28;01mreturn\u001b[39;00m output \u001b[38;5;28;01mif\u001b[39;00m \u001b[38;5;28mself\u001b[39m\u001b[38;5;241m.\u001b[39mreturn_generator \u001b[38;5;28;01melse\u001b[39;00m \u001b[38;5;28mlist\u001b[39m(output)\n\u001b[0;32m   1865\u001b[0m \u001b[38;5;66;03m# Let's create an ID that uniquely identifies the current call. If the\u001b[39;00m\n\u001b[0;32m   1866\u001b[0m \u001b[38;5;66;03m# call is interrupted early and that the same instance is immediately\u001b[39;00m\n\u001b[0;32m   1867\u001b[0m \u001b[38;5;66;03m# re-used, this id will be used to prevent workers that were\u001b[39;00m\n\u001b[0;32m   1868\u001b[0m \u001b[38;5;66;03m# concurrently finalizing a task from the previous call to run the\u001b[39;00m\n\u001b[0;32m   1869\u001b[0m \u001b[38;5;66;03m# callback.\u001b[39;00m\n\u001b[0;32m   1870\u001b[0m \u001b[38;5;28;01mwith\u001b[39;00m \u001b[38;5;28mself\u001b[39m\u001b[38;5;241m.\u001b[39m_lock:\n",
      "File \u001b[1;32mc:\\Users\\kacia\\AppData\\Local\\Programs\\Python\\Python311\\Lib\\site-packages\\joblib\\parallel.py:1792\u001b[0m, in \u001b[0;36mParallel._get_sequential_output\u001b[1;34m(self, iterable)\u001b[0m\n\u001b[0;32m   1790\u001b[0m \u001b[38;5;28mself\u001b[39m\u001b[38;5;241m.\u001b[39mn_dispatched_batches \u001b[38;5;241m+\u001b[39m\u001b[38;5;241m=\u001b[39m \u001b[38;5;241m1\u001b[39m\n\u001b[0;32m   1791\u001b[0m \u001b[38;5;28mself\u001b[39m\u001b[38;5;241m.\u001b[39mn_dispatched_tasks \u001b[38;5;241m+\u001b[39m\u001b[38;5;241m=\u001b[39m \u001b[38;5;241m1\u001b[39m\n\u001b[1;32m-> 1792\u001b[0m res \u001b[38;5;241m=\u001b[39m \u001b[43mfunc\u001b[49m\u001b[43m(\u001b[49m\u001b[38;5;241;43m*\u001b[39;49m\u001b[43margs\u001b[49m\u001b[43m,\u001b[49m\u001b[43m \u001b[49m\u001b[38;5;241;43m*\u001b[39;49m\u001b[38;5;241;43m*\u001b[39;49m\u001b[43mkwargs\u001b[49m\u001b[43m)\u001b[49m\n\u001b[0;32m   1793\u001b[0m \u001b[38;5;28mself\u001b[39m\u001b[38;5;241m.\u001b[39mn_completed_tasks \u001b[38;5;241m+\u001b[39m\u001b[38;5;241m=\u001b[39m \u001b[38;5;241m1\u001b[39m\n\u001b[0;32m   1794\u001b[0m \u001b[38;5;28mself\u001b[39m\u001b[38;5;241m.\u001b[39mprint_progress()\n",
      "File \u001b[1;32mc:\\Users\\kacia\\AppData\\Local\\Programs\\Python\\Python311\\Lib\\site-packages\\sklearn\\utils\\parallel.py:127\u001b[0m, in \u001b[0;36m_FuncWrapper.__call__\u001b[1;34m(self, *args, **kwargs)\u001b[0m\n\u001b[0;32m    125\u001b[0m     config \u001b[38;5;241m=\u001b[39m {}\n\u001b[0;32m    126\u001b[0m \u001b[38;5;28;01mwith\u001b[39;00m config_context(\u001b[38;5;241m*\u001b[39m\u001b[38;5;241m*\u001b[39mconfig):\n\u001b[1;32m--> 127\u001b[0m     \u001b[38;5;28;01mreturn\u001b[39;00m \u001b[38;5;28;43mself\u001b[39;49m\u001b[38;5;241;43m.\u001b[39;49m\u001b[43mfunction\u001b[49m\u001b[43m(\u001b[49m\u001b[38;5;241;43m*\u001b[39;49m\u001b[43margs\u001b[49m\u001b[43m,\u001b[49m\u001b[43m \u001b[49m\u001b[38;5;241;43m*\u001b[39;49m\u001b[38;5;241;43m*\u001b[39;49m\u001b[43mkwargs\u001b[49m\u001b[43m)\u001b[49m\n",
      "File \u001b[1;32mc:\\Users\\kacia\\AppData\\Local\\Programs\\Python\\Python311\\Lib\\site-packages\\sklearn\\ensemble\\_forest.py:188\u001b[0m, in \u001b[0;36m_parallel_build_trees\u001b[1;34m(tree, bootstrap, X, y, sample_weight, tree_idx, n_trees, verbose, class_weight, n_samples_bootstrap)\u001b[0m\n\u001b[0;32m    185\u001b[0m     \u001b[38;5;28;01melif\u001b[39;00m class_weight \u001b[38;5;241m==\u001b[39m \u001b[38;5;124m\"\u001b[39m\u001b[38;5;124mbalanced_subsample\u001b[39m\u001b[38;5;124m\"\u001b[39m:\n\u001b[0;32m    186\u001b[0m         curr_sample_weight \u001b[38;5;241m*\u001b[39m\u001b[38;5;241m=\u001b[39m compute_sample_weight(\u001b[38;5;124m\"\u001b[39m\u001b[38;5;124mbalanced\u001b[39m\u001b[38;5;124m\"\u001b[39m, y, indices\u001b[38;5;241m=\u001b[39mindices)\n\u001b[1;32m--> 188\u001b[0m     \u001b[43mtree\u001b[49m\u001b[38;5;241;43m.\u001b[39;49m\u001b[43mfit\u001b[49m\u001b[43m(\u001b[49m\u001b[43mX\u001b[49m\u001b[43m,\u001b[49m\u001b[43m \u001b[49m\u001b[43my\u001b[49m\u001b[43m,\u001b[49m\u001b[43m \u001b[49m\u001b[43msample_weight\u001b[49m\u001b[38;5;241;43m=\u001b[39;49m\u001b[43mcurr_sample_weight\u001b[49m\u001b[43m,\u001b[49m\u001b[43m \u001b[49m\u001b[43mcheck_input\u001b[49m\u001b[38;5;241;43m=\u001b[39;49m\u001b[38;5;28;43;01mFalse\u001b[39;49;00m\u001b[43m)\u001b[49m\n\u001b[0;32m    189\u001b[0m \u001b[38;5;28;01melse\u001b[39;00m:\n\u001b[0;32m    190\u001b[0m     tree\u001b[38;5;241m.\u001b[39mfit(X, y, sample_weight\u001b[38;5;241m=\u001b[39msample_weight, check_input\u001b[38;5;241m=\u001b[39m\u001b[38;5;28;01mFalse\u001b[39;00m)\n",
      "File \u001b[1;32mc:\\Users\\kacia\\AppData\\Local\\Programs\\Python\\Python311\\Lib\\site-packages\\sklearn\\base.py:1152\u001b[0m, in \u001b[0;36m_fit_context.<locals>.decorator.<locals>.wrapper\u001b[1;34m(estimator, *args, **kwargs)\u001b[0m\n\u001b[0;32m   1145\u001b[0m     estimator\u001b[38;5;241m.\u001b[39m_validate_params()\n\u001b[0;32m   1147\u001b[0m \u001b[38;5;28;01mwith\u001b[39;00m config_context(\n\u001b[0;32m   1148\u001b[0m     skip_parameter_validation\u001b[38;5;241m=\u001b[39m(\n\u001b[0;32m   1149\u001b[0m         prefer_skip_nested_validation \u001b[38;5;129;01mor\u001b[39;00m global_skip_validation\n\u001b[0;32m   1150\u001b[0m     )\n\u001b[0;32m   1151\u001b[0m ):\n\u001b[1;32m-> 1152\u001b[0m     \u001b[38;5;28;01mreturn\u001b[39;00m \u001b[43mfit_method\u001b[49m\u001b[43m(\u001b[49m\u001b[43mestimator\u001b[49m\u001b[43m,\u001b[49m\u001b[43m \u001b[49m\u001b[38;5;241;43m*\u001b[39;49m\u001b[43margs\u001b[49m\u001b[43m,\u001b[49m\u001b[43m \u001b[49m\u001b[38;5;241;43m*\u001b[39;49m\u001b[38;5;241;43m*\u001b[39;49m\u001b[43mkwargs\u001b[49m\u001b[43m)\u001b[49m\n",
      "File \u001b[1;32mc:\\Users\\kacia\\AppData\\Local\\Programs\\Python\\Python311\\Lib\\site-packages\\sklearn\\tree\\_classes.py:959\u001b[0m, in \u001b[0;36mDecisionTreeClassifier.fit\u001b[1;34m(self, X, y, sample_weight, check_input)\u001b[0m\n\u001b[0;32m    928\u001b[0m \u001b[38;5;129m@_fit_context\u001b[39m(prefer_skip_nested_validation\u001b[38;5;241m=\u001b[39m\u001b[38;5;28;01mTrue\u001b[39;00m)\n\u001b[0;32m    929\u001b[0m \u001b[38;5;28;01mdef\u001b[39;00m \u001b[38;5;21mfit\u001b[39m(\u001b[38;5;28mself\u001b[39m, X, y, sample_weight\u001b[38;5;241m=\u001b[39m\u001b[38;5;28;01mNone\u001b[39;00m, check_input\u001b[38;5;241m=\u001b[39m\u001b[38;5;28;01mTrue\u001b[39;00m):\n\u001b[0;32m    930\u001b[0m \u001b[38;5;250m    \u001b[39m\u001b[38;5;124;03m\"\"\"Build a decision tree classifier from the training set (X, y).\u001b[39;00m\n\u001b[0;32m    931\u001b[0m \n\u001b[0;32m    932\u001b[0m \u001b[38;5;124;03m    Parameters\u001b[39;00m\n\u001b[1;32m   (...)\u001b[0m\n\u001b[0;32m    956\u001b[0m \u001b[38;5;124;03m        Fitted estimator.\u001b[39;00m\n\u001b[0;32m    957\u001b[0m \u001b[38;5;124;03m    \"\"\"\u001b[39;00m\n\u001b[1;32m--> 959\u001b[0m     \u001b[38;5;28;43msuper\u001b[39;49m\u001b[43m(\u001b[49m\u001b[43m)\u001b[49m\u001b[38;5;241;43m.\u001b[39;49m\u001b[43m_fit\u001b[49m\u001b[43m(\u001b[49m\n\u001b[0;32m    960\u001b[0m \u001b[43m        \u001b[49m\u001b[43mX\u001b[49m\u001b[43m,\u001b[49m\n\u001b[0;32m    961\u001b[0m \u001b[43m        \u001b[49m\u001b[43my\u001b[49m\u001b[43m,\u001b[49m\n\u001b[0;32m    962\u001b[0m \u001b[43m        \u001b[49m\u001b[43msample_weight\u001b[49m\u001b[38;5;241;43m=\u001b[39;49m\u001b[43msample_weight\u001b[49m\u001b[43m,\u001b[49m\n\u001b[0;32m    963\u001b[0m \u001b[43m        \u001b[49m\u001b[43mcheck_input\u001b[49m\u001b[38;5;241;43m=\u001b[39;49m\u001b[43mcheck_input\u001b[49m\u001b[43m,\u001b[49m\n\u001b[0;32m    964\u001b[0m \u001b[43m    \u001b[49m\u001b[43m)\u001b[49m\n\u001b[0;32m    965\u001b[0m     \u001b[38;5;28;01mreturn\u001b[39;00m \u001b[38;5;28mself\u001b[39m\n",
      "File \u001b[1;32mc:\\Users\\kacia\\AppData\\Local\\Programs\\Python\\Python311\\Lib\\site-packages\\sklearn\\tree\\_classes.py:443\u001b[0m, in \u001b[0;36mBaseDecisionTree._fit\u001b[1;34m(self, X, y, sample_weight, check_input, missing_values_in_feature_mask)\u001b[0m\n\u001b[0;32m    432\u001b[0m \u001b[38;5;28;01melse\u001b[39;00m:\n\u001b[0;32m    433\u001b[0m     builder \u001b[38;5;241m=\u001b[39m BestFirstTreeBuilder(\n\u001b[0;32m    434\u001b[0m         splitter,\n\u001b[0;32m    435\u001b[0m         min_samples_split,\n\u001b[1;32m   (...)\u001b[0m\n\u001b[0;32m    440\u001b[0m         \u001b[38;5;28mself\u001b[39m\u001b[38;5;241m.\u001b[39mmin_impurity_decrease,\n\u001b[0;32m    441\u001b[0m     )\n\u001b[1;32m--> 443\u001b[0m \u001b[43mbuilder\u001b[49m\u001b[38;5;241;43m.\u001b[39;49m\u001b[43mbuild\u001b[49m\u001b[43m(\u001b[49m\u001b[38;5;28;43mself\u001b[39;49m\u001b[38;5;241;43m.\u001b[39;49m\u001b[43mtree_\u001b[49m\u001b[43m,\u001b[49m\u001b[43m \u001b[49m\u001b[43mX\u001b[49m\u001b[43m,\u001b[49m\u001b[43m \u001b[49m\u001b[43my\u001b[49m\u001b[43m,\u001b[49m\u001b[43m \u001b[49m\u001b[43msample_weight\u001b[49m\u001b[43m,\u001b[49m\u001b[43m \u001b[49m\u001b[43mmissing_values_in_feature_mask\u001b[49m\u001b[43m)\u001b[49m\n\u001b[0;32m    445\u001b[0m \u001b[38;5;28;01mif\u001b[39;00m \u001b[38;5;28mself\u001b[39m\u001b[38;5;241m.\u001b[39mn_outputs_ \u001b[38;5;241m==\u001b[39m \u001b[38;5;241m1\u001b[39m \u001b[38;5;129;01mand\u001b[39;00m is_classifier(\u001b[38;5;28mself\u001b[39m):\n\u001b[0;32m    446\u001b[0m     \u001b[38;5;28mself\u001b[39m\u001b[38;5;241m.\u001b[39mn_classes_ \u001b[38;5;241m=\u001b[39m \u001b[38;5;28mself\u001b[39m\u001b[38;5;241m.\u001b[39mn_classes_[\u001b[38;5;241m0\u001b[39m]\n",
      "File \u001b[1;32msklearn\\tree\\_tree.pyx:164\u001b[0m, in \u001b[0;36msklearn.tree._tree.DepthFirstTreeBuilder.build\u001b[1;34m()\u001b[0m\n",
      "File \u001b[1;32msklearn\\tree\\_tree.pyx:265\u001b[0m, in \u001b[0;36msklearn.tree._tree.DepthFirstTreeBuilder.build\u001b[1;34m()\u001b[0m\n",
      "File \u001b[1;32msklearn\\tree\\_tree.pyx:801\u001b[0m, in \u001b[0;36msklearn.tree._tree.Tree._add_node\u001b[1;34m()\u001b[0m\n",
      "File \u001b[1;32msklearn\\tree\\_tree.pyx:772\u001b[0m, in \u001b[0;36msklearn.tree._tree.Tree._resize_c\u001b[1;34m()\u001b[0m\n",
      "File \u001b[1;32msklearn\\tree\\_utils.pyx:37\u001b[0m, in \u001b[0;36msklearn.tree._utils.safe_realloc\u001b[1;34m()\u001b[0m\n",
      "\u001b[1;31mMemoryError\u001b[0m: could not allocate 150994944 bytes"
     ]
    }
   ],
   "source": [
    "activity_segments = segment_activities(32,2) #1/16\n",
    "model = fit_model(activity_segments)\n",
    "activity_segments = segment_activities(32,4) #1/8\n",
    "model = fit_model(activity_segments)\n",
    "activity_segments = segment_activities(32,8) #1/4\n",
    "model = fit_model(activity_segments)"
   ]
  },
  {
   "cell_type": "markdown",
   "metadata": {},
   "source": [
    "#### 3 Second"
   ]
  },
  {
   "cell_type": "code",
   "execution_count": null,
   "metadata": {},
   "outputs": [],
   "source": [
    "activity_segments = segment_activities(96,6) #1/16\n",
    "model = fit_model(activity_segments)\n",
    "activity_segments = segment_activities(96,12) #1/8\n",
    "model = fit_model(activity_segments)\n",
    "activity_segments = segment_activities(96,24) #1/4\n",
    "model = fit_model(activity_segments)"
   ]
  },
  {
   "cell_type": "markdown",
   "metadata": {},
   "source": [
    "#### 5 Second"
   ]
  },
  {
   "cell_type": "code",
   "execution_count": null,
   "metadata": {},
   "outputs": [],
   "source": [
    "activity_segments = segment_activities(160,10) #1/16\n",
    "model = fit_model(activity_segments)\n",
    "activity_segments = segment_activities(160,20) #1/8\n",
    "model = fit_model(activity_segments)\n",
    "activity_segments = segment_activities(160,40) #1/4\n",
    "model = fit_model(activity_segments)"
   ]
  },
  {
   "cell_type": "markdown",
   "metadata": {},
   "source": [
    "# STD dev filter"
   ]
  },
  {
   "cell_type": "code",
   "execution_count": null,
   "metadata": {},
   "outputs": [],
   "source": [
    "def windowed_std_dev(input_df):\n",
    "    input_x = np.array(input_df.loc[:, \"x\"])\n",
    "    input_y = np.array(input_df.loc[:, \"y\"])\n",
    "    input_z = np.array(input_df.loc[:, \"z\"])\n",
    "\n",
    "    return np.std(input_x), np.std(input_y), np.std(input_z)\n",
    "\n",
    "def normalize(df):\n",
    "    \n",
    "    x, y, z = windowed_std_dev(df)\n",
    "    df = pd.DataFrame(df[['x', 'y', 'z']])\n",
    "    return df"
   ]
  },
  {
   "cell_type": "markdown",
   "metadata": {},
   "source": [
    "#### 1 second"
   ]
  },
  {
   "cell_type": "code",
   "execution_count": null,
   "metadata": {},
   "outputs": [
    {
     "name": "stdout",
     "output_type": "stream",
     "text": [
      "B1_T1_ (WALK)\n",
      "B1_T2_ (WALK)\n",
      "B1_TWT_A_ (WALK)\n",
      "B1_TWT_B_ (WALK)\n",
      "B2_T1_ (WALK)\n",
      "B2_T2_ (WALK)\n",
      "B2_TWT_A_ (WALK)\n",
      "B2_TWT_B_ (WALK)\n",
      "DSST_ digit symbol task_ (SIT)\n"
     ]
    },
    {
     "ename": "KeyboardInterrupt",
     "evalue": "",
     "output_type": "error",
     "traceback": [
      "\u001b[1;31m---------------------------------------------------------------------------\u001b[0m\n",
      "\u001b[1;31mKeyboardInterrupt\u001b[0m                         Traceback (most recent call last)\n",
      "Cell \u001b[1;32mIn[38], line 1\u001b[0m\n",
      "\u001b[1;32m----> 1\u001b[0m activity_segments \u001b[38;5;241m=\u001b[39m \u001b[43msegment_activities\u001b[49m\u001b[43m(\u001b[49m\u001b[38;5;241;43m32\u001b[39;49m\u001b[43m,\u001b[49m\u001b[38;5;241;43m2\u001b[39;49m\u001b[43m)\u001b[49m \u001b[38;5;66;03m#1/16\u001b[39;00m\n",
      "\u001b[0;32m      2\u001b[0m model \u001b[38;5;241m=\u001b[39m fit_model(activity_segments)\n",
      "\u001b[0;32m      3\u001b[0m activity_segments \u001b[38;5;241m=\u001b[39m segment_activities(\u001b[38;5;241m32\u001b[39m,\u001b[38;5;241m4\u001b[39m) \u001b[38;5;66;03m#1/8\u001b[39;00m\n",
      "\n",
      "Cell \u001b[1;32mIn[27], line 28\u001b[0m, in \u001b[0;36msegment_activities\u001b[1;34m(window_size, step_size)\u001b[0m\n",
      "\u001b[0;32m     25\u001b[0m df_normalized \u001b[38;5;241m=\u001b[39m normalize(df)\n",
      "\u001b[0;32m     27\u001b[0m \u001b[38;5;66;03m# Segment the data using a rolling window\u001b[39;00m\n",
      "\u001b[1;32m---> 28\u001b[0m segments \u001b[38;5;241m=\u001b[39m \u001b[43msegment\u001b[49m\u001b[43m(\u001b[49m\u001b[43mdf_normalized\u001b[49m\u001b[43m,\u001b[49m\u001b[43m \u001b[49m\u001b[43mwindow_size\u001b[49m\u001b[43m,\u001b[49m\u001b[43m \u001b[49m\u001b[43mstep_size\u001b[49m\u001b[43m)\u001b[49m\n",
      "\u001b[0;32m     30\u001b[0m \u001b[38;5;66;03m# Append the segments to the activity's list\u001b[39;00m\n",
      "\u001b[0;32m     31\u001b[0m activity_segments[activity_name]\u001b[38;5;241m.\u001b[39mextend(segments)\n",
      "\n",
      "Cell \u001b[1;32mIn[21], line 14\u001b[0m, in \u001b[0;36msegment\u001b[1;34m(df, window_size, step_size)\u001b[0m\n",
      "\u001b[0;32m     11\u001b[0m     end \u001b[38;5;241m=\u001b[39m start \u001b[38;5;241m+\u001b[39m window_size\n",
      "\u001b[0;32m     13\u001b[0m     \\\n",
      "\u001b[1;32m---> 14\u001b[0m     segment \u001b[38;5;241m=\u001b[39m \u001b[43mdf\u001b[49m\u001b[38;5;241;43m.\u001b[39;49m\u001b[43miloc\u001b[49m\u001b[43m[\u001b[49m\u001b[43mstart\u001b[49m\u001b[43m:\u001b[49m\u001b[43mend\u001b[49m\u001b[43m]\u001b[49m\n",
      "\u001b[0;32m     15\u001b[0m     segments\u001b[38;5;241m.\u001b[39mappend(segment)\n",
      "\u001b[0;32m     16\u001b[0m \u001b[38;5;28;01mreturn\u001b[39;00m segments\n",
      "\n",
      "File \u001b[1;32mc:\\Users\\kacia\\AppData\\Local\\Programs\\Python\\Python311\\Lib\\site-packages\\pandas\\core\\indexing.py:1153\u001b[0m, in \u001b[0;36m_LocationIndexer.__getitem__\u001b[1;34m(self, key)\u001b[0m\n",
      "\u001b[0;32m   1150\u001b[0m axis \u001b[38;5;241m=\u001b[39m \u001b[38;5;28mself\u001b[39m\u001b[38;5;241m.\u001b[39maxis \u001b[38;5;129;01mor\u001b[39;00m \u001b[38;5;241m0\u001b[39m\n",
      "\u001b[0;32m   1152\u001b[0m maybe_callable \u001b[38;5;241m=\u001b[39m com\u001b[38;5;241m.\u001b[39mapply_if_callable(key, \u001b[38;5;28mself\u001b[39m\u001b[38;5;241m.\u001b[39mobj)\n",
      "\u001b[1;32m-> 1153\u001b[0m \u001b[38;5;28;01mreturn\u001b[39;00m \u001b[38;5;28;43mself\u001b[39;49m\u001b[38;5;241;43m.\u001b[39;49m\u001b[43m_getitem_axis\u001b[49m\u001b[43m(\u001b[49m\u001b[43mmaybe_callable\u001b[49m\u001b[43m,\u001b[49m\u001b[43m \u001b[49m\u001b[43maxis\u001b[49m\u001b[38;5;241;43m=\u001b[39;49m\u001b[43maxis\u001b[49m\u001b[43m)\u001b[49m\n",
      "\n",
      "File \u001b[1;32mc:\\Users\\kacia\\AppData\\Local\\Programs\\Python\\Python311\\Lib\\site-packages\\pandas\\core\\indexing.py:1691\u001b[0m, in \u001b[0;36m_iLocIndexer._getitem_axis\u001b[1;34m(self, key, axis)\u001b[0m\n",
      "\u001b[0;32m   1685\u001b[0m     \u001b[38;5;28;01mraise\u001b[39;00m \u001b[38;5;167;01mIndexError\u001b[39;00m(\n",
      "\u001b[0;32m   1686\u001b[0m         \u001b[38;5;124m\"\u001b[39m\u001b[38;5;124mDataFrame indexer is not allowed for .iloc\u001b[39m\u001b[38;5;130;01m\\n\u001b[39;00m\u001b[38;5;124m\"\u001b[39m\n",
      "\u001b[0;32m   1687\u001b[0m         \u001b[38;5;124m\"\u001b[39m\u001b[38;5;124mConsider using .loc for automatic alignment.\u001b[39m\u001b[38;5;124m\"\u001b[39m\n",
      "\u001b[0;32m   1688\u001b[0m     )\n",
      "\u001b[0;32m   1690\u001b[0m \u001b[38;5;28;01mif\u001b[39;00m \u001b[38;5;28misinstance\u001b[39m(key, \u001b[38;5;28mslice\u001b[39m):\n",
      "\u001b[1;32m-> 1691\u001b[0m     \u001b[38;5;28;01mreturn\u001b[39;00m \u001b[38;5;28;43mself\u001b[39;49m\u001b[38;5;241;43m.\u001b[39;49m\u001b[43m_get_slice_axis\u001b[49m\u001b[43m(\u001b[49m\u001b[43mkey\u001b[49m\u001b[43m,\u001b[49m\u001b[43m \u001b[49m\u001b[43maxis\u001b[49m\u001b[38;5;241;43m=\u001b[39;49m\u001b[43maxis\u001b[49m\u001b[43m)\u001b[49m\n",
      "\u001b[0;32m   1693\u001b[0m \u001b[38;5;28;01mif\u001b[39;00m is_iterator(key):\n",
      "\u001b[0;32m   1694\u001b[0m     key \u001b[38;5;241m=\u001b[39m \u001b[38;5;28mlist\u001b[39m(key)\n",
      "\n",
      "File \u001b[1;32mc:\\Users\\kacia\\AppData\\Local\\Programs\\Python\\Python311\\Lib\\site-packages\\pandas\\core\\indexing.py:1727\u001b[0m, in \u001b[0;36m_iLocIndexer._get_slice_axis\u001b[1;34m(self, slice_obj, axis)\u001b[0m\n",
      "\u001b[0;32m   1725\u001b[0m labels \u001b[38;5;241m=\u001b[39m obj\u001b[38;5;241m.\u001b[39m_get_axis(axis)\n",
      "\u001b[0;32m   1726\u001b[0m labels\u001b[38;5;241m.\u001b[39m_validate_positional_slice(slice_obj)\n",
      "\u001b[1;32m-> 1727\u001b[0m \u001b[38;5;28;01mreturn\u001b[39;00m \u001b[38;5;28;43mself\u001b[39;49m\u001b[38;5;241;43m.\u001b[39;49m\u001b[43mobj\u001b[49m\u001b[38;5;241;43m.\u001b[39;49m\u001b[43m_slice\u001b[49m\u001b[43m(\u001b[49m\u001b[43mslice_obj\u001b[49m\u001b[43m,\u001b[49m\u001b[43m \u001b[49m\u001b[43maxis\u001b[49m\u001b[38;5;241;43m=\u001b[39;49m\u001b[43maxis\u001b[49m\u001b[43m)\u001b[49m\n",
      "\n",
      "File \u001b[1;32mc:\\Users\\kacia\\AppData\\Local\\Programs\\Python\\Python311\\Lib\\site-packages\\pandas\\core\\generic.py:4304\u001b[0m, in \u001b[0;36mNDFrame._slice\u001b[1;34m(self, slobj, axis)\u001b[0m\n",
      "\u001b[0;32m   4302\u001b[0m \u001b[38;5;28;01massert\u001b[39;00m \u001b[38;5;28misinstance\u001b[39m(slobj, \u001b[38;5;28mslice\u001b[39m), \u001b[38;5;28mtype\u001b[39m(slobj)\n",
      "\u001b[0;32m   4303\u001b[0m axis \u001b[38;5;241m=\u001b[39m \u001b[38;5;28mself\u001b[39m\u001b[38;5;241m.\u001b[39m_get_block_manager_axis(axis)\n",
      "\u001b[1;32m-> 4304\u001b[0m new_mgr \u001b[38;5;241m=\u001b[39m \u001b[38;5;28;43mself\u001b[39;49m\u001b[38;5;241;43m.\u001b[39;49m\u001b[43m_mgr\u001b[49m\u001b[38;5;241;43m.\u001b[39;49m\u001b[43mget_slice\u001b[49m\u001b[43m(\u001b[49m\u001b[43mslobj\u001b[49m\u001b[43m,\u001b[49m\u001b[43m \u001b[49m\u001b[43maxis\u001b[49m\u001b[38;5;241;43m=\u001b[39;49m\u001b[43maxis\u001b[49m\u001b[43m)\u001b[49m\n",
      "\u001b[0;32m   4305\u001b[0m result \u001b[38;5;241m=\u001b[39m \u001b[38;5;28mself\u001b[39m\u001b[38;5;241m.\u001b[39m_constructor_from_mgr(new_mgr, axes\u001b[38;5;241m=\u001b[39mnew_mgr\u001b[38;5;241m.\u001b[39maxes)\n",
      "\u001b[0;32m   4306\u001b[0m result \u001b[38;5;241m=\u001b[39m result\u001b[38;5;241m.\u001b[39m__finalize__(\u001b[38;5;28mself\u001b[39m)\n",
      "\n",
      "File \u001b[1;32minternals.pyx:929\u001b[0m, in \u001b[0;36mpandas._libs.internals.BlockManager.get_slice\u001b[1;34m()\u001b[0m\n",
      "\n",
      "File \u001b[1;32minternals.pyx:913\u001b[0m, in \u001b[0;36mpandas._libs.internals.BlockManager._slice_mgr_rows\u001b[1;34m()\u001b[0m\n",
      "\n",
      "File \u001b[1;32mc:\\Users\\kacia\\AppData\\Local\\Programs\\Python\\Python311\\Lib\\site-packages\\pandas\\core\\indexes\\range.py:1001\u001b[0m, in \u001b[0;36mRangeIndex._getitem_slice\u001b[1;34m(self, slobj)\u001b[0m\n",
      "\u001b[0;32m    997\u001b[0m \u001b[38;5;250m\u001b[39m\u001b[38;5;124;03m\"\"\"\u001b[39;00m\n",
      "\u001b[0;32m    998\u001b[0m \u001b[38;5;124;03mFastpath for __getitem__ when we know we have a slice.\u001b[39;00m\n",
      "\u001b[0;32m    999\u001b[0m \u001b[38;5;124;03m\"\"\"\u001b[39;00m\n",
      "\u001b[0;32m   1000\u001b[0m res \u001b[38;5;241m=\u001b[39m \u001b[38;5;28mself\u001b[39m\u001b[38;5;241m.\u001b[39m_range[slobj]\n",
      "\u001b[1;32m-> 1001\u001b[0m \u001b[38;5;28;01mreturn\u001b[39;00m \u001b[38;5;28;43mtype\u001b[39;49m\u001b[43m(\u001b[49m\u001b[38;5;28;43mself\u001b[39;49m\u001b[43m)\u001b[49m\u001b[38;5;241;43m.\u001b[39;49m\u001b[43m_simple_new\u001b[49m\u001b[43m(\u001b[49m\u001b[43mres\u001b[49m\u001b[43m,\u001b[49m\u001b[43m \u001b[49m\u001b[43mname\u001b[49m\u001b[38;5;241;43m=\u001b[39;49m\u001b[38;5;28;43mself\u001b[39;49m\u001b[38;5;241;43m.\u001b[39;49m\u001b[43m_name\u001b[49m\u001b[43m)\u001b[49m\n",
      "\n",
      "File \u001b[1;32mc:\\Users\\kacia\\AppData\\Local\\Programs\\Python\\Python311\\Lib\\site-packages\\pandas\\core\\indexes\\range.py:198\u001b[0m, in \u001b[0;36mRangeIndex._simple_new\u001b[1;34m(cls, values, name)\u001b[0m\n",
      "\u001b[0;32m    193\u001b[0m     \u001b[38;5;28;01mreturn\u001b[39;00m \u001b[38;5;28mcls\u001b[39m\u001b[38;5;241m.\u001b[39m_simple_new(data, name\u001b[38;5;241m=\u001b[39mname)\n",
      "\u001b[0;32m    195\u001b[0m \u001b[38;5;66;03m#  error: Argument 1 of \"_simple_new\" is incompatible with supertype \"Index\";\u001b[39;00m\n",
      "\u001b[0;32m    196\u001b[0m \u001b[38;5;66;03m#  supertype defines the argument type as\u001b[39;00m\n",
      "\u001b[0;32m    197\u001b[0m \u001b[38;5;66;03m#  \"Union[ExtensionArray, ndarray[Any, Any]]\"  [override]\u001b[39;00m\n",
      "\u001b[1;32m--> 198\u001b[0m \u001b[38;5;129m@classmethod\u001b[39m\n",
      "\u001b[0;32m    199\u001b[0m \u001b[38;5;28;01mdef\u001b[39;00m \u001b[38;5;21m_simple_new\u001b[39m(  \u001b[38;5;66;03m# type: ignore[override]\u001b[39;00m\n",
      "\u001b[0;32m    200\u001b[0m     \u001b[38;5;28mcls\u001b[39m, values: \u001b[38;5;28mrange\u001b[39m, name: Hashable \u001b[38;5;241m|\u001b[39m \u001b[38;5;28;01mNone\u001b[39;00m \u001b[38;5;241m=\u001b[39m \u001b[38;5;28;01mNone\u001b[39;00m\n",
      "\u001b[0;32m    201\u001b[0m ) \u001b[38;5;241m-\u001b[39m\u001b[38;5;241m>\u001b[39m Self:\n",
      "\u001b[0;32m    202\u001b[0m     result \u001b[38;5;241m=\u001b[39m \u001b[38;5;28mobject\u001b[39m\u001b[38;5;241m.\u001b[39m\u001b[38;5;21m__new__\u001b[39m(\u001b[38;5;28mcls\u001b[39m)\n",
      "\u001b[0;32m    204\u001b[0m     \u001b[38;5;28;01massert\u001b[39;00m \u001b[38;5;28misinstance\u001b[39m(values, \u001b[38;5;28mrange\u001b[39m)\n",
      "\n",
      "\u001b[1;31mKeyboardInterrupt\u001b[0m: "
     ]
    }
   ],
   "source": [
    "activity_segments = segment_activities(32,2) #1/16\n",
    "model = fit_model(activity_segments)\n",
    "activity_segments = segment_activities(32,4) #1/8\n",
    "model = fit_model(activity_segments)\n",
    "activity_segments = segment_activities(32,8) #1/4\n",
    "model = fit_model(activity_segments)"
   ]
  },
  {
   "cell_type": "markdown",
   "metadata": {},
   "source": [
    "#### 3 Second"
   ]
  },
  {
   "cell_type": "code",
   "execution_count": null,
   "metadata": {},
   "outputs": [],
   "source": [
    "activity_segments = segment_activities(96,6) #1/16\n",
    "model = fit_model(activity_segments)\n",
    "activity_segments = segment_activities(96,12) #1/8\n",
    "model = fit_model(activity_segments)\n",
    "activity_segments = segment_activities(96,24) #1/4\n",
    "model = fit_model(activity_segments)"
   ]
  },
  {
   "cell_type": "markdown",
   "metadata": {},
   "source": [
    "#### 5 Second"
   ]
  },
  {
   "cell_type": "code",
   "execution_count": null,
   "metadata": {},
   "outputs": [],
   "source": [
    "activity_segments = segment_activities(160,10) #1/16\n",
    "model = fit_model(activity_segments)\n",
    "activity_segments = segment_activities(160,20) #1/8\n",
    "model = fit_model(activity_segments)\n",
    "activity_segments = segment_activities(160,40) #1/4\n",
    "model = fit_model(activity_segments)"
   ]
  },
  {
   "cell_type": "markdown",
   "metadata": {},
   "source": [
    "# Skewness filter"
   ]
  },
  {
   "cell_type": "code",
   "execution_count": null,
   "metadata": {},
   "outputs": [],
   "source": [
    "def windowed_skew(input_df):\n",
    "    input_x = np.array(input_df.loc[:, \"x\"])\n",
    "    input_y = np.array(input_df.loc[:, \"y\"])\n",
    "    input_z = np.array(input_df.loc[:, \"z\"])\n",
    "\n",
    "    return stats.skew(input_x), stats.skew(input_y), stats.skew(input_z)\n",
    "\n",
    "def normalize(df):\n",
    "    \n",
    "    x, y, z = windowed_skew(df)\n",
    "    df = pd.DataFrame(df[['x', 'y', 'z']])\n",
    "    return df"
   ]
  },
  {
   "cell_type": "markdown",
   "metadata": {},
   "source": [
    "#### 1 second"
   ]
  },
  {
   "cell_type": "code",
   "execution_count": null,
   "metadata": {},
   "outputs": [
    {
     "name": "stdout",
     "output_type": "stream",
     "text": [
      "B1_T1_ (WALK)\n",
      "B1_T2_ (WALK)\n",
      "B1_TWT_A_ (WALK)\n",
      "B1_TWT_B_ (WALK)\n",
      "B2_T1_ (WALK)\n",
      "B2_T2_ (WALK)\n",
      "B2_TWT_A_ (WALK)\n",
      "B2_TWT_B_ (WALK)\n",
      "DSST_ digit symbol task_ (SIT)\n"
     ]
    },
    {
     "ename": "KeyboardInterrupt",
     "evalue": "",
     "output_type": "error",
     "traceback": [
      "\u001b[1;31m---------------------------------------------------------------------------\u001b[0m\n",
      "\u001b[1;31mKeyboardInterrupt\u001b[0m                         Traceback (most recent call last)\n",
      "Cell \u001b[1;32mIn[38], line 1\u001b[0m\n",
      "\u001b[1;32m----> 1\u001b[0m activity_segments \u001b[38;5;241m=\u001b[39m \u001b[43msegment_activities\u001b[49m\u001b[43m(\u001b[49m\u001b[38;5;241;43m32\u001b[39;49m\u001b[43m,\u001b[49m\u001b[38;5;241;43m2\u001b[39;49m\u001b[43m)\u001b[49m \u001b[38;5;66;03m#1/16\u001b[39;00m\n",
      "\u001b[0;32m      2\u001b[0m model \u001b[38;5;241m=\u001b[39m fit_model(activity_segments)\n",
      "\u001b[0;32m      3\u001b[0m activity_segments \u001b[38;5;241m=\u001b[39m segment_activities(\u001b[38;5;241m32\u001b[39m,\u001b[38;5;241m4\u001b[39m) \u001b[38;5;66;03m#1/8\u001b[39;00m\n",
      "\n",
      "Cell \u001b[1;32mIn[27], line 28\u001b[0m, in \u001b[0;36msegment_activities\u001b[1;34m(window_size, step_size)\u001b[0m\n",
      "\u001b[0;32m     25\u001b[0m df_normalized \u001b[38;5;241m=\u001b[39m normalize(df)\n",
      "\u001b[0;32m     27\u001b[0m \u001b[38;5;66;03m# Segment the data using a rolling window\u001b[39;00m\n",
      "\u001b[1;32m---> 28\u001b[0m segments \u001b[38;5;241m=\u001b[39m \u001b[43msegment\u001b[49m\u001b[43m(\u001b[49m\u001b[43mdf_normalized\u001b[49m\u001b[43m,\u001b[49m\u001b[43m \u001b[49m\u001b[43mwindow_size\u001b[49m\u001b[43m,\u001b[49m\u001b[43m \u001b[49m\u001b[43mstep_size\u001b[49m\u001b[43m)\u001b[49m\n",
      "\u001b[0;32m     30\u001b[0m \u001b[38;5;66;03m# Append the segments to the activity's list\u001b[39;00m\n",
      "\u001b[0;32m     31\u001b[0m activity_segments[activity_name]\u001b[38;5;241m.\u001b[39mextend(segments)\n",
      "\n",
      "Cell \u001b[1;32mIn[21], line 14\u001b[0m, in \u001b[0;36msegment\u001b[1;34m(df, window_size, step_size)\u001b[0m\n",
      "\u001b[0;32m     11\u001b[0m     end \u001b[38;5;241m=\u001b[39m start \u001b[38;5;241m+\u001b[39m window_size\n",
      "\u001b[0;32m     13\u001b[0m     \\\n",
      "\u001b[1;32m---> 14\u001b[0m     segment \u001b[38;5;241m=\u001b[39m \u001b[43mdf\u001b[49m\u001b[38;5;241;43m.\u001b[39;49m\u001b[43miloc\u001b[49m\u001b[43m[\u001b[49m\u001b[43mstart\u001b[49m\u001b[43m:\u001b[49m\u001b[43mend\u001b[49m\u001b[43m]\u001b[49m\n",
      "\u001b[0;32m     15\u001b[0m     segments\u001b[38;5;241m.\u001b[39mappend(segment)\n",
      "\u001b[0;32m     16\u001b[0m \u001b[38;5;28;01mreturn\u001b[39;00m segments\n",
      "\n",
      "File \u001b[1;32mc:\\Users\\kacia\\AppData\\Local\\Programs\\Python\\Python311\\Lib\\site-packages\\pandas\\core\\indexing.py:1153\u001b[0m, in \u001b[0;36m_LocationIndexer.__getitem__\u001b[1;34m(self, key)\u001b[0m\n",
      "\u001b[0;32m   1150\u001b[0m axis \u001b[38;5;241m=\u001b[39m \u001b[38;5;28mself\u001b[39m\u001b[38;5;241m.\u001b[39maxis \u001b[38;5;129;01mor\u001b[39;00m \u001b[38;5;241m0\u001b[39m\n",
      "\u001b[0;32m   1152\u001b[0m maybe_callable \u001b[38;5;241m=\u001b[39m com\u001b[38;5;241m.\u001b[39mapply_if_callable(key, \u001b[38;5;28mself\u001b[39m\u001b[38;5;241m.\u001b[39mobj)\n",
      "\u001b[1;32m-> 1153\u001b[0m \u001b[38;5;28;01mreturn\u001b[39;00m \u001b[38;5;28;43mself\u001b[39;49m\u001b[38;5;241;43m.\u001b[39;49m\u001b[43m_getitem_axis\u001b[49m\u001b[43m(\u001b[49m\u001b[43mmaybe_callable\u001b[49m\u001b[43m,\u001b[49m\u001b[43m \u001b[49m\u001b[43maxis\u001b[49m\u001b[38;5;241;43m=\u001b[39;49m\u001b[43maxis\u001b[49m\u001b[43m)\u001b[49m\n",
      "\n",
      "File \u001b[1;32mc:\\Users\\kacia\\AppData\\Local\\Programs\\Python\\Python311\\Lib\\site-packages\\pandas\\core\\indexing.py:1691\u001b[0m, in \u001b[0;36m_iLocIndexer._getitem_axis\u001b[1;34m(self, key, axis)\u001b[0m\n",
      "\u001b[0;32m   1685\u001b[0m     \u001b[38;5;28;01mraise\u001b[39;00m \u001b[38;5;167;01mIndexError\u001b[39;00m(\n",
      "\u001b[0;32m   1686\u001b[0m         \u001b[38;5;124m\"\u001b[39m\u001b[38;5;124mDataFrame indexer is not allowed for .iloc\u001b[39m\u001b[38;5;130;01m\\n\u001b[39;00m\u001b[38;5;124m\"\u001b[39m\n",
      "\u001b[0;32m   1687\u001b[0m         \u001b[38;5;124m\"\u001b[39m\u001b[38;5;124mConsider using .loc for automatic alignment.\u001b[39m\u001b[38;5;124m\"\u001b[39m\n",
      "\u001b[0;32m   1688\u001b[0m     )\n",
      "\u001b[0;32m   1690\u001b[0m \u001b[38;5;28;01mif\u001b[39;00m \u001b[38;5;28misinstance\u001b[39m(key, \u001b[38;5;28mslice\u001b[39m):\n",
      "\u001b[1;32m-> 1691\u001b[0m     \u001b[38;5;28;01mreturn\u001b[39;00m \u001b[38;5;28;43mself\u001b[39;49m\u001b[38;5;241;43m.\u001b[39;49m\u001b[43m_get_slice_axis\u001b[49m\u001b[43m(\u001b[49m\u001b[43mkey\u001b[49m\u001b[43m,\u001b[49m\u001b[43m \u001b[49m\u001b[43maxis\u001b[49m\u001b[38;5;241;43m=\u001b[39;49m\u001b[43maxis\u001b[49m\u001b[43m)\u001b[49m\n",
      "\u001b[0;32m   1693\u001b[0m \u001b[38;5;28;01mif\u001b[39;00m is_iterator(key):\n",
      "\u001b[0;32m   1694\u001b[0m     key \u001b[38;5;241m=\u001b[39m \u001b[38;5;28mlist\u001b[39m(key)\n",
      "\n",
      "File \u001b[1;32mc:\\Users\\kacia\\AppData\\Local\\Programs\\Python\\Python311\\Lib\\site-packages\\pandas\\core\\indexing.py:1727\u001b[0m, in \u001b[0;36m_iLocIndexer._get_slice_axis\u001b[1;34m(self, slice_obj, axis)\u001b[0m\n",
      "\u001b[0;32m   1725\u001b[0m labels \u001b[38;5;241m=\u001b[39m obj\u001b[38;5;241m.\u001b[39m_get_axis(axis)\n",
      "\u001b[0;32m   1726\u001b[0m labels\u001b[38;5;241m.\u001b[39m_validate_positional_slice(slice_obj)\n",
      "\u001b[1;32m-> 1727\u001b[0m \u001b[38;5;28;01mreturn\u001b[39;00m \u001b[38;5;28;43mself\u001b[39;49m\u001b[38;5;241;43m.\u001b[39;49m\u001b[43mobj\u001b[49m\u001b[38;5;241;43m.\u001b[39;49m\u001b[43m_slice\u001b[49m\u001b[43m(\u001b[49m\u001b[43mslice_obj\u001b[49m\u001b[43m,\u001b[49m\u001b[43m \u001b[49m\u001b[43maxis\u001b[49m\u001b[38;5;241;43m=\u001b[39;49m\u001b[43maxis\u001b[49m\u001b[43m)\u001b[49m\n",
      "\n",
      "File \u001b[1;32mc:\\Users\\kacia\\AppData\\Local\\Programs\\Python\\Python311\\Lib\\site-packages\\pandas\\core\\generic.py:4304\u001b[0m, in \u001b[0;36mNDFrame._slice\u001b[1;34m(self, slobj, axis)\u001b[0m\n",
      "\u001b[0;32m   4302\u001b[0m \u001b[38;5;28;01massert\u001b[39;00m \u001b[38;5;28misinstance\u001b[39m(slobj, \u001b[38;5;28mslice\u001b[39m), \u001b[38;5;28mtype\u001b[39m(slobj)\n",
      "\u001b[0;32m   4303\u001b[0m axis \u001b[38;5;241m=\u001b[39m \u001b[38;5;28mself\u001b[39m\u001b[38;5;241m.\u001b[39m_get_block_manager_axis(axis)\n",
      "\u001b[1;32m-> 4304\u001b[0m new_mgr \u001b[38;5;241m=\u001b[39m \u001b[38;5;28;43mself\u001b[39;49m\u001b[38;5;241;43m.\u001b[39;49m\u001b[43m_mgr\u001b[49m\u001b[38;5;241;43m.\u001b[39;49m\u001b[43mget_slice\u001b[49m\u001b[43m(\u001b[49m\u001b[43mslobj\u001b[49m\u001b[43m,\u001b[49m\u001b[43m \u001b[49m\u001b[43maxis\u001b[49m\u001b[38;5;241;43m=\u001b[39;49m\u001b[43maxis\u001b[49m\u001b[43m)\u001b[49m\n",
      "\u001b[0;32m   4305\u001b[0m result \u001b[38;5;241m=\u001b[39m \u001b[38;5;28mself\u001b[39m\u001b[38;5;241m.\u001b[39m_constructor_from_mgr(new_mgr, axes\u001b[38;5;241m=\u001b[39mnew_mgr\u001b[38;5;241m.\u001b[39maxes)\n",
      "\u001b[0;32m   4306\u001b[0m result \u001b[38;5;241m=\u001b[39m result\u001b[38;5;241m.\u001b[39m__finalize__(\u001b[38;5;28mself\u001b[39m)\n",
      "\n",
      "File \u001b[1;32minternals.pyx:929\u001b[0m, in \u001b[0;36mpandas._libs.internals.BlockManager.get_slice\u001b[1;34m()\u001b[0m\n",
      "\n",
      "File \u001b[1;32minternals.pyx:913\u001b[0m, in \u001b[0;36mpandas._libs.internals.BlockManager._slice_mgr_rows\u001b[1;34m()\u001b[0m\n",
      "\n",
      "File \u001b[1;32mc:\\Users\\kacia\\AppData\\Local\\Programs\\Python\\Python311\\Lib\\site-packages\\pandas\\core\\indexes\\range.py:1001\u001b[0m, in \u001b[0;36mRangeIndex._getitem_slice\u001b[1;34m(self, slobj)\u001b[0m\n",
      "\u001b[0;32m    997\u001b[0m \u001b[38;5;250m\u001b[39m\u001b[38;5;124;03m\"\"\"\u001b[39;00m\n",
      "\u001b[0;32m    998\u001b[0m \u001b[38;5;124;03mFastpath for __getitem__ when we know we have a slice.\u001b[39;00m\n",
      "\u001b[0;32m    999\u001b[0m \u001b[38;5;124;03m\"\"\"\u001b[39;00m\n",
      "\u001b[0;32m   1000\u001b[0m res \u001b[38;5;241m=\u001b[39m \u001b[38;5;28mself\u001b[39m\u001b[38;5;241m.\u001b[39m_range[slobj]\n",
      "\u001b[1;32m-> 1001\u001b[0m \u001b[38;5;28;01mreturn\u001b[39;00m \u001b[38;5;28;43mtype\u001b[39;49m\u001b[43m(\u001b[49m\u001b[38;5;28;43mself\u001b[39;49m\u001b[43m)\u001b[49m\u001b[38;5;241;43m.\u001b[39;49m\u001b[43m_simple_new\u001b[49m\u001b[43m(\u001b[49m\u001b[43mres\u001b[49m\u001b[43m,\u001b[49m\u001b[43m \u001b[49m\u001b[43mname\u001b[49m\u001b[38;5;241;43m=\u001b[39;49m\u001b[38;5;28;43mself\u001b[39;49m\u001b[38;5;241;43m.\u001b[39;49m\u001b[43m_name\u001b[49m\u001b[43m)\u001b[49m\n",
      "\n",
      "File \u001b[1;32mc:\\Users\\kacia\\AppData\\Local\\Programs\\Python\\Python311\\Lib\\site-packages\\pandas\\core\\indexes\\range.py:198\u001b[0m, in \u001b[0;36mRangeIndex._simple_new\u001b[1;34m(cls, values, name)\u001b[0m\n",
      "\u001b[0;32m    193\u001b[0m     \u001b[38;5;28;01mreturn\u001b[39;00m \u001b[38;5;28mcls\u001b[39m\u001b[38;5;241m.\u001b[39m_simple_new(data, name\u001b[38;5;241m=\u001b[39mname)\n",
      "\u001b[0;32m    195\u001b[0m \u001b[38;5;66;03m#  error: Argument 1 of \"_simple_new\" is incompatible with supertype \"Index\";\u001b[39;00m\n",
      "\u001b[0;32m    196\u001b[0m \u001b[38;5;66;03m#  supertype defines the argument type as\u001b[39;00m\n",
      "\u001b[0;32m    197\u001b[0m \u001b[38;5;66;03m#  \"Union[ExtensionArray, ndarray[Any, Any]]\"  [override]\u001b[39;00m\n",
      "\u001b[1;32m--> 198\u001b[0m \u001b[38;5;129m@classmethod\u001b[39m\n",
      "\u001b[0;32m    199\u001b[0m \u001b[38;5;28;01mdef\u001b[39;00m \u001b[38;5;21m_simple_new\u001b[39m(  \u001b[38;5;66;03m# type: ignore[override]\u001b[39;00m\n",
      "\u001b[0;32m    200\u001b[0m     \u001b[38;5;28mcls\u001b[39m, values: \u001b[38;5;28mrange\u001b[39m, name: Hashable \u001b[38;5;241m|\u001b[39m \u001b[38;5;28;01mNone\u001b[39;00m \u001b[38;5;241m=\u001b[39m \u001b[38;5;28;01mNone\u001b[39;00m\n",
      "\u001b[0;32m    201\u001b[0m ) \u001b[38;5;241m-\u001b[39m\u001b[38;5;241m>\u001b[39m Self:\n",
      "\u001b[0;32m    202\u001b[0m     result \u001b[38;5;241m=\u001b[39m \u001b[38;5;28mobject\u001b[39m\u001b[38;5;241m.\u001b[39m\u001b[38;5;21m__new__\u001b[39m(\u001b[38;5;28mcls\u001b[39m)\n",
      "\u001b[0;32m    204\u001b[0m     \u001b[38;5;28;01massert\u001b[39;00m \u001b[38;5;28misinstance\u001b[39m(values, \u001b[38;5;28mrange\u001b[39m)\n",
      "\n",
      "\u001b[1;31mKeyboardInterrupt\u001b[0m: "
     ]
    }
   ],
   "source": [
    "activity_segments = segment_activities(32,2) #1/16\n",
    "model = fit_model(activity_segments)\n",
    "activity_segments = segment_activities(32,4) #1/8\n",
    "model = fit_model(activity_segments)\n",
    "activity_segments = segment_activities(32,8) #1/4\n",
    "model = fit_model(activity_segments)"
   ]
  },
  {
   "cell_type": "markdown",
   "metadata": {},
   "source": [
    "#### 3 Second"
   ]
  },
  {
   "cell_type": "code",
   "execution_count": null,
   "metadata": {},
   "outputs": [],
   "source": [
    "activity_segments = segment_activities(96,6) #1/16\n",
    "model = fit_model(activity_segments)\n",
    "activity_segments = segment_activities(96,12) #1/8\n",
    "model = fit_model(activity_segments)\n",
    "activity_segments = segment_activities(96,24) #1/4\n",
    "model = fit_model(activity_segments)"
   ]
  },
  {
   "cell_type": "markdown",
   "metadata": {},
   "source": [
    "#### 5 Second"
   ]
  },
  {
   "cell_type": "code",
   "execution_count": null,
   "metadata": {},
   "outputs": [],
   "source": [
    "activity_segments = segment_activities(160,10) #1/16\n",
    "model = fit_model(activity_segments)\n",
    "activity_segments = segment_activities(160,20) #1/8\n",
    "model = fit_model(activity_segments)\n",
    "activity_segments = segment_activities(160,40) #1/4\n",
    "model = fit_model(activity_segments)"
   ]
  },
  {
   "cell_type": "markdown",
   "metadata": {},
   "source": [
    "# Kurtosis Filter"
   ]
  },
  {
   "cell_type": "code",
   "execution_count": null,
   "metadata": {},
   "outputs": [],
   "source": [
    "def windowed_kurtosis(input_df):\n",
    "    input_x = np.array(input_df.loc[:, \"x\"])\n",
    "    input_y = np.array(input_df.loc[:, \"y\"])\n",
    "    input_z = np.array(input_df.loc[:, \"z\"])\n",
    "\n",
    "    return stats.kurtosis(input_x), stats.kurtosis(input_y), stats.kurtosis(input_z)\n",
    "\n",
    "def normalize(df):\n",
    "    \n",
    "    x, y, z = windowed_kurtosis(df)\n",
    "    df = pd.DataFrame(df[['x', 'y', 'z']])\n",
    "    return df"
   ]
  },
  {
   "cell_type": "markdown",
   "metadata": {},
   "source": [
    "#### 1 second"
   ]
  },
  {
   "cell_type": "code",
   "execution_count": null,
   "metadata": {},
   "outputs": [
    {
     "name": "stdout",
     "output_type": "stream",
     "text": [
      "B1_T1_ (WALK)\n",
      "B1_T2_ (WALK)\n",
      "B1_TWT_A_ (WALK)\n",
      "B1_TWT_B_ (WALK)\n",
      "B2_T1_ (WALK)\n",
      "B2_T2_ (WALK)\n",
      "B2_TWT_A_ (WALK)\n",
      "B2_TWT_B_ (WALK)\n",
      "DSST_ digit symbol task_ (SIT)\n"
     ]
    },
    {
     "ename": "KeyboardInterrupt",
     "evalue": "",
     "output_type": "error",
     "traceback": [
      "\u001b[1;31m---------------------------------------------------------------------------\u001b[0m\n",
      "\u001b[1;31mKeyboardInterrupt\u001b[0m                         Traceback (most recent call last)\n",
      "Cell \u001b[1;32mIn[38], line 1\u001b[0m\n",
      "\u001b[1;32m----> 1\u001b[0m activity_segments \u001b[38;5;241m=\u001b[39m \u001b[43msegment_activities\u001b[49m\u001b[43m(\u001b[49m\u001b[38;5;241;43m32\u001b[39;49m\u001b[43m,\u001b[49m\u001b[38;5;241;43m2\u001b[39;49m\u001b[43m)\u001b[49m \u001b[38;5;66;03m#1/16\u001b[39;00m\n",
      "\u001b[0;32m      2\u001b[0m model \u001b[38;5;241m=\u001b[39m fit_model(activity_segments)\n",
      "\u001b[0;32m      3\u001b[0m activity_segments \u001b[38;5;241m=\u001b[39m segment_activities(\u001b[38;5;241m32\u001b[39m,\u001b[38;5;241m4\u001b[39m) \u001b[38;5;66;03m#1/8\u001b[39;00m\n",
      "\n",
      "Cell \u001b[1;32mIn[27], line 28\u001b[0m, in \u001b[0;36msegment_activities\u001b[1;34m(window_size, step_size)\u001b[0m\n",
      "\u001b[0;32m     25\u001b[0m df_normalized \u001b[38;5;241m=\u001b[39m normalize(df)\n",
      "\u001b[0;32m     27\u001b[0m \u001b[38;5;66;03m# Segment the data using a rolling window\u001b[39;00m\n",
      "\u001b[1;32m---> 28\u001b[0m segments \u001b[38;5;241m=\u001b[39m \u001b[43msegment\u001b[49m\u001b[43m(\u001b[49m\u001b[43mdf_normalized\u001b[49m\u001b[43m,\u001b[49m\u001b[43m \u001b[49m\u001b[43mwindow_size\u001b[49m\u001b[43m,\u001b[49m\u001b[43m \u001b[49m\u001b[43mstep_size\u001b[49m\u001b[43m)\u001b[49m\n",
      "\u001b[0;32m     30\u001b[0m \u001b[38;5;66;03m# Append the segments to the activity's list\u001b[39;00m\n",
      "\u001b[0;32m     31\u001b[0m activity_segments[activity_name]\u001b[38;5;241m.\u001b[39mextend(segments)\n",
      "\n",
      "Cell \u001b[1;32mIn[21], line 14\u001b[0m, in \u001b[0;36msegment\u001b[1;34m(df, window_size, step_size)\u001b[0m\n",
      "\u001b[0;32m     11\u001b[0m     end \u001b[38;5;241m=\u001b[39m start \u001b[38;5;241m+\u001b[39m window_size\n",
      "\u001b[0;32m     13\u001b[0m     \\\n",
      "\u001b[1;32m---> 14\u001b[0m     segment \u001b[38;5;241m=\u001b[39m \u001b[43mdf\u001b[49m\u001b[38;5;241;43m.\u001b[39;49m\u001b[43miloc\u001b[49m\u001b[43m[\u001b[49m\u001b[43mstart\u001b[49m\u001b[43m:\u001b[49m\u001b[43mend\u001b[49m\u001b[43m]\u001b[49m\n",
      "\u001b[0;32m     15\u001b[0m     segments\u001b[38;5;241m.\u001b[39mappend(segment)\n",
      "\u001b[0;32m     16\u001b[0m \u001b[38;5;28;01mreturn\u001b[39;00m segments\n",
      "\n",
      "File \u001b[1;32mc:\\Users\\kacia\\AppData\\Local\\Programs\\Python\\Python311\\Lib\\site-packages\\pandas\\core\\indexing.py:1153\u001b[0m, in \u001b[0;36m_LocationIndexer.__getitem__\u001b[1;34m(self, key)\u001b[0m\n",
      "\u001b[0;32m   1150\u001b[0m axis \u001b[38;5;241m=\u001b[39m \u001b[38;5;28mself\u001b[39m\u001b[38;5;241m.\u001b[39maxis \u001b[38;5;129;01mor\u001b[39;00m \u001b[38;5;241m0\u001b[39m\n",
      "\u001b[0;32m   1152\u001b[0m maybe_callable \u001b[38;5;241m=\u001b[39m com\u001b[38;5;241m.\u001b[39mapply_if_callable(key, \u001b[38;5;28mself\u001b[39m\u001b[38;5;241m.\u001b[39mobj)\n",
      "\u001b[1;32m-> 1153\u001b[0m \u001b[38;5;28;01mreturn\u001b[39;00m \u001b[38;5;28;43mself\u001b[39;49m\u001b[38;5;241;43m.\u001b[39;49m\u001b[43m_getitem_axis\u001b[49m\u001b[43m(\u001b[49m\u001b[43mmaybe_callable\u001b[49m\u001b[43m,\u001b[49m\u001b[43m \u001b[49m\u001b[43maxis\u001b[49m\u001b[38;5;241;43m=\u001b[39;49m\u001b[43maxis\u001b[49m\u001b[43m)\u001b[49m\n",
      "\n",
      "File \u001b[1;32mc:\\Users\\kacia\\AppData\\Local\\Programs\\Python\\Python311\\Lib\\site-packages\\pandas\\core\\indexing.py:1691\u001b[0m, in \u001b[0;36m_iLocIndexer._getitem_axis\u001b[1;34m(self, key, axis)\u001b[0m\n",
      "\u001b[0;32m   1685\u001b[0m     \u001b[38;5;28;01mraise\u001b[39;00m \u001b[38;5;167;01mIndexError\u001b[39;00m(\n",
      "\u001b[0;32m   1686\u001b[0m         \u001b[38;5;124m\"\u001b[39m\u001b[38;5;124mDataFrame indexer is not allowed for .iloc\u001b[39m\u001b[38;5;130;01m\\n\u001b[39;00m\u001b[38;5;124m\"\u001b[39m\n",
      "\u001b[0;32m   1687\u001b[0m         \u001b[38;5;124m\"\u001b[39m\u001b[38;5;124mConsider using .loc for automatic alignment.\u001b[39m\u001b[38;5;124m\"\u001b[39m\n",
      "\u001b[0;32m   1688\u001b[0m     )\n",
      "\u001b[0;32m   1690\u001b[0m \u001b[38;5;28;01mif\u001b[39;00m \u001b[38;5;28misinstance\u001b[39m(key, \u001b[38;5;28mslice\u001b[39m):\n",
      "\u001b[1;32m-> 1691\u001b[0m     \u001b[38;5;28;01mreturn\u001b[39;00m \u001b[38;5;28;43mself\u001b[39;49m\u001b[38;5;241;43m.\u001b[39;49m\u001b[43m_get_slice_axis\u001b[49m\u001b[43m(\u001b[49m\u001b[43mkey\u001b[49m\u001b[43m,\u001b[49m\u001b[43m \u001b[49m\u001b[43maxis\u001b[49m\u001b[38;5;241;43m=\u001b[39;49m\u001b[43maxis\u001b[49m\u001b[43m)\u001b[49m\n",
      "\u001b[0;32m   1693\u001b[0m \u001b[38;5;28;01mif\u001b[39;00m is_iterator(key):\n",
      "\u001b[0;32m   1694\u001b[0m     key \u001b[38;5;241m=\u001b[39m \u001b[38;5;28mlist\u001b[39m(key)\n",
      "\n",
      "File \u001b[1;32mc:\\Users\\kacia\\AppData\\Local\\Programs\\Python\\Python311\\Lib\\site-packages\\pandas\\core\\indexing.py:1727\u001b[0m, in \u001b[0;36m_iLocIndexer._get_slice_axis\u001b[1;34m(self, slice_obj, axis)\u001b[0m\n",
      "\u001b[0;32m   1725\u001b[0m labels \u001b[38;5;241m=\u001b[39m obj\u001b[38;5;241m.\u001b[39m_get_axis(axis)\n",
      "\u001b[0;32m   1726\u001b[0m labels\u001b[38;5;241m.\u001b[39m_validate_positional_slice(slice_obj)\n",
      "\u001b[1;32m-> 1727\u001b[0m \u001b[38;5;28;01mreturn\u001b[39;00m \u001b[38;5;28;43mself\u001b[39;49m\u001b[38;5;241;43m.\u001b[39;49m\u001b[43mobj\u001b[49m\u001b[38;5;241;43m.\u001b[39;49m\u001b[43m_slice\u001b[49m\u001b[43m(\u001b[49m\u001b[43mslice_obj\u001b[49m\u001b[43m,\u001b[49m\u001b[43m \u001b[49m\u001b[43maxis\u001b[49m\u001b[38;5;241;43m=\u001b[39;49m\u001b[43maxis\u001b[49m\u001b[43m)\u001b[49m\n",
      "\n",
      "File \u001b[1;32mc:\\Users\\kacia\\AppData\\Local\\Programs\\Python\\Python311\\Lib\\site-packages\\pandas\\core\\generic.py:4304\u001b[0m, in \u001b[0;36mNDFrame._slice\u001b[1;34m(self, slobj, axis)\u001b[0m\n",
      "\u001b[0;32m   4302\u001b[0m \u001b[38;5;28;01massert\u001b[39;00m \u001b[38;5;28misinstance\u001b[39m(slobj, \u001b[38;5;28mslice\u001b[39m), \u001b[38;5;28mtype\u001b[39m(slobj)\n",
      "\u001b[0;32m   4303\u001b[0m axis \u001b[38;5;241m=\u001b[39m \u001b[38;5;28mself\u001b[39m\u001b[38;5;241m.\u001b[39m_get_block_manager_axis(axis)\n",
      "\u001b[1;32m-> 4304\u001b[0m new_mgr \u001b[38;5;241m=\u001b[39m \u001b[38;5;28;43mself\u001b[39;49m\u001b[38;5;241;43m.\u001b[39;49m\u001b[43m_mgr\u001b[49m\u001b[38;5;241;43m.\u001b[39;49m\u001b[43mget_slice\u001b[49m\u001b[43m(\u001b[49m\u001b[43mslobj\u001b[49m\u001b[43m,\u001b[49m\u001b[43m \u001b[49m\u001b[43maxis\u001b[49m\u001b[38;5;241;43m=\u001b[39;49m\u001b[43maxis\u001b[49m\u001b[43m)\u001b[49m\n",
      "\u001b[0;32m   4305\u001b[0m result \u001b[38;5;241m=\u001b[39m \u001b[38;5;28mself\u001b[39m\u001b[38;5;241m.\u001b[39m_constructor_from_mgr(new_mgr, axes\u001b[38;5;241m=\u001b[39mnew_mgr\u001b[38;5;241m.\u001b[39maxes)\n",
      "\u001b[0;32m   4306\u001b[0m result \u001b[38;5;241m=\u001b[39m result\u001b[38;5;241m.\u001b[39m__finalize__(\u001b[38;5;28mself\u001b[39m)\n",
      "\n",
      "File \u001b[1;32minternals.pyx:929\u001b[0m, in \u001b[0;36mpandas._libs.internals.BlockManager.get_slice\u001b[1;34m()\u001b[0m\n",
      "\n",
      "File \u001b[1;32minternals.pyx:913\u001b[0m, in \u001b[0;36mpandas._libs.internals.BlockManager._slice_mgr_rows\u001b[1;34m()\u001b[0m\n",
      "\n",
      "File \u001b[1;32mc:\\Users\\kacia\\AppData\\Local\\Programs\\Python\\Python311\\Lib\\site-packages\\pandas\\core\\indexes\\range.py:1001\u001b[0m, in \u001b[0;36mRangeIndex._getitem_slice\u001b[1;34m(self, slobj)\u001b[0m\n",
      "\u001b[0;32m    997\u001b[0m \u001b[38;5;250m\u001b[39m\u001b[38;5;124;03m\"\"\"\u001b[39;00m\n",
      "\u001b[0;32m    998\u001b[0m \u001b[38;5;124;03mFastpath for __getitem__ when we know we have a slice.\u001b[39;00m\n",
      "\u001b[0;32m    999\u001b[0m \u001b[38;5;124;03m\"\"\"\u001b[39;00m\n",
      "\u001b[0;32m   1000\u001b[0m res \u001b[38;5;241m=\u001b[39m \u001b[38;5;28mself\u001b[39m\u001b[38;5;241m.\u001b[39m_range[slobj]\n",
      "\u001b[1;32m-> 1001\u001b[0m \u001b[38;5;28;01mreturn\u001b[39;00m \u001b[38;5;28;43mtype\u001b[39;49m\u001b[43m(\u001b[49m\u001b[38;5;28;43mself\u001b[39;49m\u001b[43m)\u001b[49m\u001b[38;5;241;43m.\u001b[39;49m\u001b[43m_simple_new\u001b[49m\u001b[43m(\u001b[49m\u001b[43mres\u001b[49m\u001b[43m,\u001b[49m\u001b[43m \u001b[49m\u001b[43mname\u001b[49m\u001b[38;5;241;43m=\u001b[39;49m\u001b[38;5;28;43mself\u001b[39;49m\u001b[38;5;241;43m.\u001b[39;49m\u001b[43m_name\u001b[49m\u001b[43m)\u001b[49m\n",
      "\n",
      "File \u001b[1;32mc:\\Users\\kacia\\AppData\\Local\\Programs\\Python\\Python311\\Lib\\site-packages\\pandas\\core\\indexes\\range.py:198\u001b[0m, in \u001b[0;36mRangeIndex._simple_new\u001b[1;34m(cls, values, name)\u001b[0m\n",
      "\u001b[0;32m    193\u001b[0m     \u001b[38;5;28;01mreturn\u001b[39;00m \u001b[38;5;28mcls\u001b[39m\u001b[38;5;241m.\u001b[39m_simple_new(data, name\u001b[38;5;241m=\u001b[39mname)\n",
      "\u001b[0;32m    195\u001b[0m \u001b[38;5;66;03m#  error: Argument 1 of \"_simple_new\" is incompatible with supertype \"Index\";\u001b[39;00m\n",
      "\u001b[0;32m    196\u001b[0m \u001b[38;5;66;03m#  supertype defines the argument type as\u001b[39;00m\n",
      "\u001b[0;32m    197\u001b[0m \u001b[38;5;66;03m#  \"Union[ExtensionArray, ndarray[Any, Any]]\"  [override]\u001b[39;00m\n",
      "\u001b[1;32m--> 198\u001b[0m \u001b[38;5;129m@classmethod\u001b[39m\n",
      "\u001b[0;32m    199\u001b[0m \u001b[38;5;28;01mdef\u001b[39;00m \u001b[38;5;21m_simple_new\u001b[39m(  \u001b[38;5;66;03m# type: ignore[override]\u001b[39;00m\n",
      "\u001b[0;32m    200\u001b[0m     \u001b[38;5;28mcls\u001b[39m, values: \u001b[38;5;28mrange\u001b[39m, name: Hashable \u001b[38;5;241m|\u001b[39m \u001b[38;5;28;01mNone\u001b[39;00m \u001b[38;5;241m=\u001b[39m \u001b[38;5;28;01mNone\u001b[39;00m\n",
      "\u001b[0;32m    201\u001b[0m ) \u001b[38;5;241m-\u001b[39m\u001b[38;5;241m>\u001b[39m Self:\n",
      "\u001b[0;32m    202\u001b[0m     result \u001b[38;5;241m=\u001b[39m \u001b[38;5;28mobject\u001b[39m\u001b[38;5;241m.\u001b[39m\u001b[38;5;21m__new__\u001b[39m(\u001b[38;5;28mcls\u001b[39m)\n",
      "\u001b[0;32m    204\u001b[0m     \u001b[38;5;28;01massert\u001b[39;00m \u001b[38;5;28misinstance\u001b[39m(values, \u001b[38;5;28mrange\u001b[39m)\n",
      "\n",
      "\u001b[1;31mKeyboardInterrupt\u001b[0m: "
     ]
    }
   ],
   "source": [
    "activity_segments = segment_activities(32,2) #1/16\n",
    "model = fit_model(activity_segments)\n",
    "activity_segments = segment_activities(32,4) #1/8\n",
    "model = fit_model(activity_segments)\n",
    "activity_segments = segment_activities(32,8) #1/4\n",
    "model = fit_model(activity_segments)"
   ]
  },
  {
   "cell_type": "markdown",
   "metadata": {},
   "source": [
    "#### 3 Second"
   ]
  },
  {
   "cell_type": "code",
   "execution_count": null,
   "metadata": {},
   "outputs": [],
   "source": [
    "activity_segments = segment_activities(96,6) #1/16\n",
    "model = fit_model(activity_segments)\n",
    "activity_segments = segment_activities(96,12) #1/8\n",
    "model = fit_model(activity_segments)\n",
    "activity_segments = segment_activities(96,24) #1/4\n",
    "model = fit_model(activity_segments)"
   ]
  },
  {
   "cell_type": "markdown",
   "metadata": {},
   "source": [
    "#### 5 Second"
   ]
  },
  {
   "cell_type": "code",
   "execution_count": null,
   "metadata": {},
   "outputs": [],
   "source": [
    "activity_segments = segment_activities(160,10) #1/16\n",
    "model = fit_model(activity_segments)\n",
    "activity_segments = segment_activities(160,20) #1/8\n",
    "model = fit_model(activity_segments)\n",
    "activity_segments = segment_activities(160,40) #1/4\n",
    "model = fit_model(activity_segments)"
   ]
  },
  {
   "cell_type": "markdown",
   "metadata": {},
   "source": [
    "# Zero Crossing Rate Filter"
   ]
  },
  {
   "cell_type": "code",
   "execution_count": null,
   "metadata": {},
   "outputs": [],
   "source": [
    "def windowed_zcr(input_df):\n",
    "\n",
    "    def compute_zcr(input_arr):\n",
    "        my_array = np.array(input_arr)\n",
    "        return float(((((my_array[:-1] * my_array[1:]) < 0).sum())/len(input_arr)))\n",
    "\n",
    "    input_x = np.array(input_df.loc[:, \"x\"])\n",
    "    input_y = np.array(input_df.loc[:, \"y\"])\n",
    "    input_z = np.array(input_df.loc[:, \"z\"])\n",
    "\n",
    "    return compute_zcr(input_x), compute_zcr(input_y), compute_zcr(input_z)\n",
    "\n",
    "def normalize(df):\n",
    "    \n",
    "    x, y, z = windowed_zcr(df)\n",
    "    df = pd.DataFrame(df[['x', 'y', 'z']])\n",
    "    return df"
   ]
  },
  {
   "cell_type": "markdown",
   "metadata": {},
   "source": [
    "#### 1 second"
   ]
  },
  {
   "cell_type": "code",
   "execution_count": null,
   "metadata": {},
   "outputs": [
    {
     "name": "stdout",
     "output_type": "stream",
     "text": [
      "B1_T1_ (WALK)\n",
      "B1_T2_ (WALK)\n",
      "B1_TWT_A_ (WALK)\n",
      "B1_TWT_B_ (WALK)\n",
      "B2_T1_ (WALK)\n",
      "B2_T2_ (WALK)\n",
      "B2_TWT_A_ (WALK)\n",
      "B2_TWT_B_ (WALK)\n",
      "DSST_ digit symbol task_ (SIT)\n"
     ]
    },
    {
     "ename": "KeyboardInterrupt",
     "evalue": "",
     "output_type": "error",
     "traceback": [
      "\u001b[1;31m---------------------------------------------------------------------------\u001b[0m\n",
      "\u001b[1;31mKeyboardInterrupt\u001b[0m                         Traceback (most recent call last)\n",
      "Cell \u001b[1;32mIn[38], line 1\u001b[0m\n",
      "\u001b[1;32m----> 1\u001b[0m activity_segments \u001b[38;5;241m=\u001b[39m \u001b[43msegment_activities\u001b[49m\u001b[43m(\u001b[49m\u001b[38;5;241;43m32\u001b[39;49m\u001b[43m,\u001b[49m\u001b[38;5;241;43m2\u001b[39;49m\u001b[43m)\u001b[49m \u001b[38;5;66;03m#1/16\u001b[39;00m\n",
      "\u001b[0;32m      2\u001b[0m model \u001b[38;5;241m=\u001b[39m fit_model(activity_segments)\n",
      "\u001b[0;32m      3\u001b[0m activity_segments \u001b[38;5;241m=\u001b[39m segment_activities(\u001b[38;5;241m32\u001b[39m,\u001b[38;5;241m4\u001b[39m) \u001b[38;5;66;03m#1/8\u001b[39;00m\n",
      "\n",
      "Cell \u001b[1;32mIn[27], line 28\u001b[0m, in \u001b[0;36msegment_activities\u001b[1;34m(window_size, step_size)\u001b[0m\n",
      "\u001b[0;32m     25\u001b[0m df_normalized \u001b[38;5;241m=\u001b[39m normalize(df)\n",
      "\u001b[0;32m     27\u001b[0m \u001b[38;5;66;03m# Segment the data using a rolling window\u001b[39;00m\n",
      "\u001b[1;32m---> 28\u001b[0m segments \u001b[38;5;241m=\u001b[39m \u001b[43msegment\u001b[49m\u001b[43m(\u001b[49m\u001b[43mdf_normalized\u001b[49m\u001b[43m,\u001b[49m\u001b[43m \u001b[49m\u001b[43mwindow_size\u001b[49m\u001b[43m,\u001b[49m\u001b[43m \u001b[49m\u001b[43mstep_size\u001b[49m\u001b[43m)\u001b[49m\n",
      "\u001b[0;32m     30\u001b[0m \u001b[38;5;66;03m# Append the segments to the activity's list\u001b[39;00m\n",
      "\u001b[0;32m     31\u001b[0m activity_segments[activity_name]\u001b[38;5;241m.\u001b[39mextend(segments)\n",
      "\n",
      "Cell \u001b[1;32mIn[21], line 14\u001b[0m, in \u001b[0;36msegment\u001b[1;34m(df, window_size, step_size)\u001b[0m\n",
      "\u001b[0;32m     11\u001b[0m     end \u001b[38;5;241m=\u001b[39m start \u001b[38;5;241m+\u001b[39m window_size\n",
      "\u001b[0;32m     13\u001b[0m     \\\n",
      "\u001b[1;32m---> 14\u001b[0m     segment \u001b[38;5;241m=\u001b[39m \u001b[43mdf\u001b[49m\u001b[38;5;241;43m.\u001b[39;49m\u001b[43miloc\u001b[49m\u001b[43m[\u001b[49m\u001b[43mstart\u001b[49m\u001b[43m:\u001b[49m\u001b[43mend\u001b[49m\u001b[43m]\u001b[49m\n",
      "\u001b[0;32m     15\u001b[0m     segments\u001b[38;5;241m.\u001b[39mappend(segment)\n",
      "\u001b[0;32m     16\u001b[0m \u001b[38;5;28;01mreturn\u001b[39;00m segments\n",
      "\n",
      "File \u001b[1;32mc:\\Users\\kacia\\AppData\\Local\\Programs\\Python\\Python311\\Lib\\site-packages\\pandas\\core\\indexing.py:1153\u001b[0m, in \u001b[0;36m_LocationIndexer.__getitem__\u001b[1;34m(self, key)\u001b[0m\n",
      "\u001b[0;32m   1150\u001b[0m axis \u001b[38;5;241m=\u001b[39m \u001b[38;5;28mself\u001b[39m\u001b[38;5;241m.\u001b[39maxis \u001b[38;5;129;01mor\u001b[39;00m \u001b[38;5;241m0\u001b[39m\n",
      "\u001b[0;32m   1152\u001b[0m maybe_callable \u001b[38;5;241m=\u001b[39m com\u001b[38;5;241m.\u001b[39mapply_if_callable(key, \u001b[38;5;28mself\u001b[39m\u001b[38;5;241m.\u001b[39mobj)\n",
      "\u001b[1;32m-> 1153\u001b[0m \u001b[38;5;28;01mreturn\u001b[39;00m \u001b[38;5;28;43mself\u001b[39;49m\u001b[38;5;241;43m.\u001b[39;49m\u001b[43m_getitem_axis\u001b[49m\u001b[43m(\u001b[49m\u001b[43mmaybe_callable\u001b[49m\u001b[43m,\u001b[49m\u001b[43m \u001b[49m\u001b[43maxis\u001b[49m\u001b[38;5;241;43m=\u001b[39;49m\u001b[43maxis\u001b[49m\u001b[43m)\u001b[49m\n",
      "\n",
      "File \u001b[1;32mc:\\Users\\kacia\\AppData\\Local\\Programs\\Python\\Python311\\Lib\\site-packages\\pandas\\core\\indexing.py:1691\u001b[0m, in \u001b[0;36m_iLocIndexer._getitem_axis\u001b[1;34m(self, key, axis)\u001b[0m\n",
      "\u001b[0;32m   1685\u001b[0m     \u001b[38;5;28;01mraise\u001b[39;00m \u001b[38;5;167;01mIndexError\u001b[39;00m(\n",
      "\u001b[0;32m   1686\u001b[0m         \u001b[38;5;124m\"\u001b[39m\u001b[38;5;124mDataFrame indexer is not allowed for .iloc\u001b[39m\u001b[38;5;130;01m\\n\u001b[39;00m\u001b[38;5;124m\"\u001b[39m\n",
      "\u001b[0;32m   1687\u001b[0m         \u001b[38;5;124m\"\u001b[39m\u001b[38;5;124mConsider using .loc for automatic alignment.\u001b[39m\u001b[38;5;124m\"\u001b[39m\n",
      "\u001b[0;32m   1688\u001b[0m     )\n",
      "\u001b[0;32m   1690\u001b[0m \u001b[38;5;28;01mif\u001b[39;00m \u001b[38;5;28misinstance\u001b[39m(key, \u001b[38;5;28mslice\u001b[39m):\n",
      "\u001b[1;32m-> 1691\u001b[0m     \u001b[38;5;28;01mreturn\u001b[39;00m \u001b[38;5;28;43mself\u001b[39;49m\u001b[38;5;241;43m.\u001b[39;49m\u001b[43m_get_slice_axis\u001b[49m\u001b[43m(\u001b[49m\u001b[43mkey\u001b[49m\u001b[43m,\u001b[49m\u001b[43m \u001b[49m\u001b[43maxis\u001b[49m\u001b[38;5;241;43m=\u001b[39;49m\u001b[43maxis\u001b[49m\u001b[43m)\u001b[49m\n",
      "\u001b[0;32m   1693\u001b[0m \u001b[38;5;28;01mif\u001b[39;00m is_iterator(key):\n",
      "\u001b[0;32m   1694\u001b[0m     key \u001b[38;5;241m=\u001b[39m \u001b[38;5;28mlist\u001b[39m(key)\n",
      "\n",
      "File \u001b[1;32mc:\\Users\\kacia\\AppData\\Local\\Programs\\Python\\Python311\\Lib\\site-packages\\pandas\\core\\indexing.py:1727\u001b[0m, in \u001b[0;36m_iLocIndexer._get_slice_axis\u001b[1;34m(self, slice_obj, axis)\u001b[0m\n",
      "\u001b[0;32m   1725\u001b[0m labels \u001b[38;5;241m=\u001b[39m obj\u001b[38;5;241m.\u001b[39m_get_axis(axis)\n",
      "\u001b[0;32m   1726\u001b[0m labels\u001b[38;5;241m.\u001b[39m_validate_positional_slice(slice_obj)\n",
      "\u001b[1;32m-> 1727\u001b[0m \u001b[38;5;28;01mreturn\u001b[39;00m \u001b[38;5;28;43mself\u001b[39;49m\u001b[38;5;241;43m.\u001b[39;49m\u001b[43mobj\u001b[49m\u001b[38;5;241;43m.\u001b[39;49m\u001b[43m_slice\u001b[49m\u001b[43m(\u001b[49m\u001b[43mslice_obj\u001b[49m\u001b[43m,\u001b[49m\u001b[43m \u001b[49m\u001b[43maxis\u001b[49m\u001b[38;5;241;43m=\u001b[39;49m\u001b[43maxis\u001b[49m\u001b[43m)\u001b[49m\n",
      "\n",
      "File \u001b[1;32mc:\\Users\\kacia\\AppData\\Local\\Programs\\Python\\Python311\\Lib\\site-packages\\pandas\\core\\generic.py:4304\u001b[0m, in \u001b[0;36mNDFrame._slice\u001b[1;34m(self, slobj, axis)\u001b[0m\n",
      "\u001b[0;32m   4302\u001b[0m \u001b[38;5;28;01massert\u001b[39;00m \u001b[38;5;28misinstance\u001b[39m(slobj, \u001b[38;5;28mslice\u001b[39m), \u001b[38;5;28mtype\u001b[39m(slobj)\n",
      "\u001b[0;32m   4303\u001b[0m axis \u001b[38;5;241m=\u001b[39m \u001b[38;5;28mself\u001b[39m\u001b[38;5;241m.\u001b[39m_get_block_manager_axis(axis)\n",
      "\u001b[1;32m-> 4304\u001b[0m new_mgr \u001b[38;5;241m=\u001b[39m \u001b[38;5;28;43mself\u001b[39;49m\u001b[38;5;241;43m.\u001b[39;49m\u001b[43m_mgr\u001b[49m\u001b[38;5;241;43m.\u001b[39;49m\u001b[43mget_slice\u001b[49m\u001b[43m(\u001b[49m\u001b[43mslobj\u001b[49m\u001b[43m,\u001b[49m\u001b[43m \u001b[49m\u001b[43maxis\u001b[49m\u001b[38;5;241;43m=\u001b[39;49m\u001b[43maxis\u001b[49m\u001b[43m)\u001b[49m\n",
      "\u001b[0;32m   4305\u001b[0m result \u001b[38;5;241m=\u001b[39m \u001b[38;5;28mself\u001b[39m\u001b[38;5;241m.\u001b[39m_constructor_from_mgr(new_mgr, axes\u001b[38;5;241m=\u001b[39mnew_mgr\u001b[38;5;241m.\u001b[39maxes)\n",
      "\u001b[0;32m   4306\u001b[0m result \u001b[38;5;241m=\u001b[39m result\u001b[38;5;241m.\u001b[39m__finalize__(\u001b[38;5;28mself\u001b[39m)\n",
      "\n",
      "File \u001b[1;32minternals.pyx:929\u001b[0m, in \u001b[0;36mpandas._libs.internals.BlockManager.get_slice\u001b[1;34m()\u001b[0m\n",
      "\n",
      "File \u001b[1;32minternals.pyx:913\u001b[0m, in \u001b[0;36mpandas._libs.internals.BlockManager._slice_mgr_rows\u001b[1;34m()\u001b[0m\n",
      "\n",
      "File \u001b[1;32mc:\\Users\\kacia\\AppData\\Local\\Programs\\Python\\Python311\\Lib\\site-packages\\pandas\\core\\indexes\\range.py:1001\u001b[0m, in \u001b[0;36mRangeIndex._getitem_slice\u001b[1;34m(self, slobj)\u001b[0m\n",
      "\u001b[0;32m    997\u001b[0m \u001b[38;5;250m\u001b[39m\u001b[38;5;124;03m\"\"\"\u001b[39;00m\n",
      "\u001b[0;32m    998\u001b[0m \u001b[38;5;124;03mFastpath for __getitem__ when we know we have a slice.\u001b[39;00m\n",
      "\u001b[0;32m    999\u001b[0m \u001b[38;5;124;03m\"\"\"\u001b[39;00m\n",
      "\u001b[0;32m   1000\u001b[0m res \u001b[38;5;241m=\u001b[39m \u001b[38;5;28mself\u001b[39m\u001b[38;5;241m.\u001b[39m_range[slobj]\n",
      "\u001b[1;32m-> 1001\u001b[0m \u001b[38;5;28;01mreturn\u001b[39;00m \u001b[38;5;28;43mtype\u001b[39;49m\u001b[43m(\u001b[49m\u001b[38;5;28;43mself\u001b[39;49m\u001b[43m)\u001b[49m\u001b[38;5;241;43m.\u001b[39;49m\u001b[43m_simple_new\u001b[49m\u001b[43m(\u001b[49m\u001b[43mres\u001b[49m\u001b[43m,\u001b[49m\u001b[43m \u001b[49m\u001b[43mname\u001b[49m\u001b[38;5;241;43m=\u001b[39;49m\u001b[38;5;28;43mself\u001b[39;49m\u001b[38;5;241;43m.\u001b[39;49m\u001b[43m_name\u001b[49m\u001b[43m)\u001b[49m\n",
      "\n",
      "File \u001b[1;32mc:\\Users\\kacia\\AppData\\Local\\Programs\\Python\\Python311\\Lib\\site-packages\\pandas\\core\\indexes\\range.py:198\u001b[0m, in \u001b[0;36mRangeIndex._simple_new\u001b[1;34m(cls, values, name)\u001b[0m\n",
      "\u001b[0;32m    193\u001b[0m     \u001b[38;5;28;01mreturn\u001b[39;00m \u001b[38;5;28mcls\u001b[39m\u001b[38;5;241m.\u001b[39m_simple_new(data, name\u001b[38;5;241m=\u001b[39mname)\n",
      "\u001b[0;32m    195\u001b[0m \u001b[38;5;66;03m#  error: Argument 1 of \"_simple_new\" is incompatible with supertype \"Index\";\u001b[39;00m\n",
      "\u001b[0;32m    196\u001b[0m \u001b[38;5;66;03m#  supertype defines the argument type as\u001b[39;00m\n",
      "\u001b[0;32m    197\u001b[0m \u001b[38;5;66;03m#  \"Union[ExtensionArray, ndarray[Any, Any]]\"  [override]\u001b[39;00m\n",
      "\u001b[1;32m--> 198\u001b[0m \u001b[38;5;129m@classmethod\u001b[39m\n",
      "\u001b[0;32m    199\u001b[0m \u001b[38;5;28;01mdef\u001b[39;00m \u001b[38;5;21m_simple_new\u001b[39m(  \u001b[38;5;66;03m# type: ignore[override]\u001b[39;00m\n",
      "\u001b[0;32m    200\u001b[0m     \u001b[38;5;28mcls\u001b[39m, values: \u001b[38;5;28mrange\u001b[39m, name: Hashable \u001b[38;5;241m|\u001b[39m \u001b[38;5;28;01mNone\u001b[39;00m \u001b[38;5;241m=\u001b[39m \u001b[38;5;28;01mNone\u001b[39;00m\n",
      "\u001b[0;32m    201\u001b[0m ) \u001b[38;5;241m-\u001b[39m\u001b[38;5;241m>\u001b[39m Self:\n",
      "\u001b[0;32m    202\u001b[0m     result \u001b[38;5;241m=\u001b[39m \u001b[38;5;28mobject\u001b[39m\u001b[38;5;241m.\u001b[39m\u001b[38;5;21m__new__\u001b[39m(\u001b[38;5;28mcls\u001b[39m)\n",
      "\u001b[0;32m    204\u001b[0m     \u001b[38;5;28;01massert\u001b[39;00m \u001b[38;5;28misinstance\u001b[39m(values, \u001b[38;5;28mrange\u001b[39m)\n",
      "\n",
      "\u001b[1;31mKeyboardInterrupt\u001b[0m: "
     ]
    }
   ],
   "source": [
    "activity_segments = segment_activities(32,2) #1/16\n",
    "model = fit_model(activity_segments)\n",
    "activity_segments = segment_activities(32,4) #1/8\n",
    "model = fit_model(activity_segments)\n",
    "activity_segments = segment_activities(32,8) #1/4\n",
    "model = fit_model(activity_segments)"
   ]
  },
  {
   "cell_type": "markdown",
   "metadata": {},
   "source": [
    "#### 3 Second"
   ]
  },
  {
   "cell_type": "code",
   "execution_count": null,
   "metadata": {},
   "outputs": [],
   "source": [
    "activity_segments = segment_activities(96,6) #1/16\n",
    "model = fit_model(activity_segments)\n",
    "activity_segments = segment_activities(96,12) #1/8\n",
    "model = fit_model(activity_segments)\n",
    "activity_segments = segment_activities(96,24) #1/4\n",
    "model = fit_model(activity_segments)"
   ]
  },
  {
   "cell_type": "markdown",
   "metadata": {},
   "source": [
    "#### 5 Second"
   ]
  },
  {
   "cell_type": "code",
   "execution_count": null,
   "metadata": {},
   "outputs": [],
   "source": [
    "activity_segments = segment_activities(160,10) #1/16\n",
    "model = fit_model(activity_segments)\n",
    "activity_segments = segment_activities(160,20) #1/8\n",
    "model = fit_model(activity_segments)\n",
    "activity_segments = segment_activities(160,40) #1/4\n",
    "model = fit_model(activity_segments)"
   ]
  },
  {
   "cell_type": "markdown",
   "metadata": {},
   "source": [
    "# Dominant Frequency Filter"
   ]
  },
  {
   "cell_type": "code",
   "execution_count": null,
   "metadata": {},
   "outputs": [],
   "source": [
    "def df(input_df):\n",
    "\n",
    "    def compute(input_arr):\n",
    "        frequency_spectrum = np.fft.fft(input_arr)\n",
    "        dom = frequency_spectrum[np.argmax(frequency_spectrum)]\n",
    "        return dom\n",
    "    input_x = np.array(input_df.loc[:, \"x\"])\n",
    "    input_y = np.array(input_df.loc[:, \"y\"])\n",
    "    input_z = np.array(input_df.loc[:, \"z\"])\n",
    "\n",
    "    return compute(input_x), compute(input_y), compute(input_z)\n",
    "\n",
    "def normalize(df):\n",
    "    \n",
    "    x, y, z = df(df)\n",
    "    df = pd.DataFrame(df[['x', 'y', 'z']])\n",
    "    return df"
   ]
  },
  {
   "cell_type": "markdown",
   "metadata": {},
   "source": [
    "#### 1 second"
   ]
  },
  {
   "cell_type": "code",
   "execution_count": null,
   "metadata": {},
   "outputs": [
    {
     "name": "stdout",
     "output_type": "stream",
     "text": [
      "B1_T1_ (WALK)\n",
      "B1_T2_ (WALK)\n",
      "B1_TWT_A_ (WALK)\n",
      "B1_TWT_B_ (WALK)\n",
      "B2_T1_ (WALK)\n",
      "B2_T2_ (WALK)\n",
      "B2_TWT_A_ (WALK)\n",
      "B2_TWT_B_ (WALK)\n",
      "DSST_ digit symbol task_ (SIT)\n"
     ]
    },
    {
     "ename": "KeyboardInterrupt",
     "evalue": "",
     "output_type": "error",
     "traceback": [
      "\u001b[1;31m---------------------------------------------------------------------------\u001b[0m\n",
      "\u001b[1;31mKeyboardInterrupt\u001b[0m                         Traceback (most recent call last)\n",
      "Cell \u001b[1;32mIn[38], line 1\u001b[0m\n",
      "\u001b[1;32m----> 1\u001b[0m activity_segments \u001b[38;5;241m=\u001b[39m \u001b[43msegment_activities\u001b[49m\u001b[43m(\u001b[49m\u001b[38;5;241;43m32\u001b[39;49m\u001b[43m,\u001b[49m\u001b[38;5;241;43m2\u001b[39;49m\u001b[43m)\u001b[49m \u001b[38;5;66;03m#1/16\u001b[39;00m\n",
      "\u001b[0;32m      2\u001b[0m model \u001b[38;5;241m=\u001b[39m fit_model(activity_segments)\n",
      "\u001b[0;32m      3\u001b[0m activity_segments \u001b[38;5;241m=\u001b[39m segment_activities(\u001b[38;5;241m32\u001b[39m,\u001b[38;5;241m4\u001b[39m) \u001b[38;5;66;03m#1/8\u001b[39;00m\n",
      "\n",
      "Cell \u001b[1;32mIn[27], line 28\u001b[0m, in \u001b[0;36msegment_activities\u001b[1;34m(window_size, step_size)\u001b[0m\n",
      "\u001b[0;32m     25\u001b[0m df_normalized \u001b[38;5;241m=\u001b[39m normalize(df)\n",
      "\u001b[0;32m     27\u001b[0m \u001b[38;5;66;03m# Segment the data using a rolling window\u001b[39;00m\n",
      "\u001b[1;32m---> 28\u001b[0m segments \u001b[38;5;241m=\u001b[39m \u001b[43msegment\u001b[49m\u001b[43m(\u001b[49m\u001b[43mdf_normalized\u001b[49m\u001b[43m,\u001b[49m\u001b[43m \u001b[49m\u001b[43mwindow_size\u001b[49m\u001b[43m,\u001b[49m\u001b[43m \u001b[49m\u001b[43mstep_size\u001b[49m\u001b[43m)\u001b[49m\n",
      "\u001b[0;32m     30\u001b[0m \u001b[38;5;66;03m# Append the segments to the activity's list\u001b[39;00m\n",
      "\u001b[0;32m     31\u001b[0m activity_segments[activity_name]\u001b[38;5;241m.\u001b[39mextend(segments)\n",
      "\n",
      "Cell \u001b[1;32mIn[21], line 14\u001b[0m, in \u001b[0;36msegment\u001b[1;34m(df, window_size, step_size)\u001b[0m\n",
      "\u001b[0;32m     11\u001b[0m     end \u001b[38;5;241m=\u001b[39m start \u001b[38;5;241m+\u001b[39m window_size\n",
      "\u001b[0;32m     13\u001b[0m     \\\n",
      "\u001b[1;32m---> 14\u001b[0m     segment \u001b[38;5;241m=\u001b[39m \u001b[43mdf\u001b[49m\u001b[38;5;241;43m.\u001b[39;49m\u001b[43miloc\u001b[49m\u001b[43m[\u001b[49m\u001b[43mstart\u001b[49m\u001b[43m:\u001b[49m\u001b[43mend\u001b[49m\u001b[43m]\u001b[49m\n",
      "\u001b[0;32m     15\u001b[0m     segments\u001b[38;5;241m.\u001b[39mappend(segment)\n",
      "\u001b[0;32m     16\u001b[0m \u001b[38;5;28;01mreturn\u001b[39;00m segments\n",
      "\n",
      "File \u001b[1;32mc:\\Users\\kacia\\AppData\\Local\\Programs\\Python\\Python311\\Lib\\site-packages\\pandas\\core\\indexing.py:1153\u001b[0m, in \u001b[0;36m_LocationIndexer.__getitem__\u001b[1;34m(self, key)\u001b[0m\n",
      "\u001b[0;32m   1150\u001b[0m axis \u001b[38;5;241m=\u001b[39m \u001b[38;5;28mself\u001b[39m\u001b[38;5;241m.\u001b[39maxis \u001b[38;5;129;01mor\u001b[39;00m \u001b[38;5;241m0\u001b[39m\n",
      "\u001b[0;32m   1152\u001b[0m maybe_callable \u001b[38;5;241m=\u001b[39m com\u001b[38;5;241m.\u001b[39mapply_if_callable(key, \u001b[38;5;28mself\u001b[39m\u001b[38;5;241m.\u001b[39mobj)\n",
      "\u001b[1;32m-> 1153\u001b[0m \u001b[38;5;28;01mreturn\u001b[39;00m \u001b[38;5;28;43mself\u001b[39;49m\u001b[38;5;241;43m.\u001b[39;49m\u001b[43m_getitem_axis\u001b[49m\u001b[43m(\u001b[49m\u001b[43mmaybe_callable\u001b[49m\u001b[43m,\u001b[49m\u001b[43m \u001b[49m\u001b[43maxis\u001b[49m\u001b[38;5;241;43m=\u001b[39;49m\u001b[43maxis\u001b[49m\u001b[43m)\u001b[49m\n",
      "\n",
      "File \u001b[1;32mc:\\Users\\kacia\\AppData\\Local\\Programs\\Python\\Python311\\Lib\\site-packages\\pandas\\core\\indexing.py:1691\u001b[0m, in \u001b[0;36m_iLocIndexer._getitem_axis\u001b[1;34m(self, key, axis)\u001b[0m\n",
      "\u001b[0;32m   1685\u001b[0m     \u001b[38;5;28;01mraise\u001b[39;00m \u001b[38;5;167;01mIndexError\u001b[39;00m(\n",
      "\u001b[0;32m   1686\u001b[0m         \u001b[38;5;124m\"\u001b[39m\u001b[38;5;124mDataFrame indexer is not allowed for .iloc\u001b[39m\u001b[38;5;130;01m\\n\u001b[39;00m\u001b[38;5;124m\"\u001b[39m\n",
      "\u001b[0;32m   1687\u001b[0m         \u001b[38;5;124m\"\u001b[39m\u001b[38;5;124mConsider using .loc for automatic alignment.\u001b[39m\u001b[38;5;124m\"\u001b[39m\n",
      "\u001b[0;32m   1688\u001b[0m     )\n",
      "\u001b[0;32m   1690\u001b[0m \u001b[38;5;28;01mif\u001b[39;00m \u001b[38;5;28misinstance\u001b[39m(key, \u001b[38;5;28mslice\u001b[39m):\n",
      "\u001b[1;32m-> 1691\u001b[0m     \u001b[38;5;28;01mreturn\u001b[39;00m \u001b[38;5;28;43mself\u001b[39;49m\u001b[38;5;241;43m.\u001b[39;49m\u001b[43m_get_slice_axis\u001b[49m\u001b[43m(\u001b[49m\u001b[43mkey\u001b[49m\u001b[43m,\u001b[49m\u001b[43m \u001b[49m\u001b[43maxis\u001b[49m\u001b[38;5;241;43m=\u001b[39;49m\u001b[43maxis\u001b[49m\u001b[43m)\u001b[49m\n",
      "\u001b[0;32m   1693\u001b[0m \u001b[38;5;28;01mif\u001b[39;00m is_iterator(key):\n",
      "\u001b[0;32m   1694\u001b[0m     key \u001b[38;5;241m=\u001b[39m \u001b[38;5;28mlist\u001b[39m(key)\n",
      "\n",
      "File \u001b[1;32mc:\\Users\\kacia\\AppData\\Local\\Programs\\Python\\Python311\\Lib\\site-packages\\pandas\\core\\indexing.py:1727\u001b[0m, in \u001b[0;36m_iLocIndexer._get_slice_axis\u001b[1;34m(self, slice_obj, axis)\u001b[0m\n",
      "\u001b[0;32m   1725\u001b[0m labels \u001b[38;5;241m=\u001b[39m obj\u001b[38;5;241m.\u001b[39m_get_axis(axis)\n",
      "\u001b[0;32m   1726\u001b[0m labels\u001b[38;5;241m.\u001b[39m_validate_positional_slice(slice_obj)\n",
      "\u001b[1;32m-> 1727\u001b[0m \u001b[38;5;28;01mreturn\u001b[39;00m \u001b[38;5;28;43mself\u001b[39;49m\u001b[38;5;241;43m.\u001b[39;49m\u001b[43mobj\u001b[49m\u001b[38;5;241;43m.\u001b[39;49m\u001b[43m_slice\u001b[49m\u001b[43m(\u001b[49m\u001b[43mslice_obj\u001b[49m\u001b[43m,\u001b[49m\u001b[43m \u001b[49m\u001b[43maxis\u001b[49m\u001b[38;5;241;43m=\u001b[39;49m\u001b[43maxis\u001b[49m\u001b[43m)\u001b[49m\n",
      "\n",
      "File \u001b[1;32mc:\\Users\\kacia\\AppData\\Local\\Programs\\Python\\Python311\\Lib\\site-packages\\pandas\\core\\generic.py:4304\u001b[0m, in \u001b[0;36mNDFrame._slice\u001b[1;34m(self, slobj, axis)\u001b[0m\n",
      "\u001b[0;32m   4302\u001b[0m \u001b[38;5;28;01massert\u001b[39;00m \u001b[38;5;28misinstance\u001b[39m(slobj, \u001b[38;5;28mslice\u001b[39m), \u001b[38;5;28mtype\u001b[39m(slobj)\n",
      "\u001b[0;32m   4303\u001b[0m axis \u001b[38;5;241m=\u001b[39m \u001b[38;5;28mself\u001b[39m\u001b[38;5;241m.\u001b[39m_get_block_manager_axis(axis)\n",
      "\u001b[1;32m-> 4304\u001b[0m new_mgr \u001b[38;5;241m=\u001b[39m \u001b[38;5;28;43mself\u001b[39;49m\u001b[38;5;241;43m.\u001b[39;49m\u001b[43m_mgr\u001b[49m\u001b[38;5;241;43m.\u001b[39;49m\u001b[43mget_slice\u001b[49m\u001b[43m(\u001b[49m\u001b[43mslobj\u001b[49m\u001b[43m,\u001b[49m\u001b[43m \u001b[49m\u001b[43maxis\u001b[49m\u001b[38;5;241;43m=\u001b[39;49m\u001b[43maxis\u001b[49m\u001b[43m)\u001b[49m\n",
      "\u001b[0;32m   4305\u001b[0m result \u001b[38;5;241m=\u001b[39m \u001b[38;5;28mself\u001b[39m\u001b[38;5;241m.\u001b[39m_constructor_from_mgr(new_mgr, axes\u001b[38;5;241m=\u001b[39mnew_mgr\u001b[38;5;241m.\u001b[39maxes)\n",
      "\u001b[0;32m   4306\u001b[0m result \u001b[38;5;241m=\u001b[39m result\u001b[38;5;241m.\u001b[39m__finalize__(\u001b[38;5;28mself\u001b[39m)\n",
      "\n",
      "File \u001b[1;32minternals.pyx:929\u001b[0m, in \u001b[0;36mpandas._libs.internals.BlockManager.get_slice\u001b[1;34m()\u001b[0m\n",
      "\n",
      "File \u001b[1;32minternals.pyx:913\u001b[0m, in \u001b[0;36mpandas._libs.internals.BlockManager._slice_mgr_rows\u001b[1;34m()\u001b[0m\n",
      "\n",
      "File \u001b[1;32mc:\\Users\\kacia\\AppData\\Local\\Programs\\Python\\Python311\\Lib\\site-packages\\pandas\\core\\indexes\\range.py:1001\u001b[0m, in \u001b[0;36mRangeIndex._getitem_slice\u001b[1;34m(self, slobj)\u001b[0m\n",
      "\u001b[0;32m    997\u001b[0m \u001b[38;5;250m\u001b[39m\u001b[38;5;124;03m\"\"\"\u001b[39;00m\n",
      "\u001b[0;32m    998\u001b[0m \u001b[38;5;124;03mFastpath for __getitem__ when we know we have a slice.\u001b[39;00m\n",
      "\u001b[0;32m    999\u001b[0m \u001b[38;5;124;03m\"\"\"\u001b[39;00m\n",
      "\u001b[0;32m   1000\u001b[0m res \u001b[38;5;241m=\u001b[39m \u001b[38;5;28mself\u001b[39m\u001b[38;5;241m.\u001b[39m_range[slobj]\n",
      "\u001b[1;32m-> 1001\u001b[0m \u001b[38;5;28;01mreturn\u001b[39;00m \u001b[38;5;28;43mtype\u001b[39;49m\u001b[43m(\u001b[49m\u001b[38;5;28;43mself\u001b[39;49m\u001b[43m)\u001b[49m\u001b[38;5;241;43m.\u001b[39;49m\u001b[43m_simple_new\u001b[49m\u001b[43m(\u001b[49m\u001b[43mres\u001b[49m\u001b[43m,\u001b[49m\u001b[43m \u001b[49m\u001b[43mname\u001b[49m\u001b[38;5;241;43m=\u001b[39;49m\u001b[38;5;28;43mself\u001b[39;49m\u001b[38;5;241;43m.\u001b[39;49m\u001b[43m_name\u001b[49m\u001b[43m)\u001b[49m\n",
      "\n",
      "File \u001b[1;32mc:\\Users\\kacia\\AppData\\Local\\Programs\\Python\\Python311\\Lib\\site-packages\\pandas\\core\\indexes\\range.py:198\u001b[0m, in \u001b[0;36mRangeIndex._simple_new\u001b[1;34m(cls, values, name)\u001b[0m\n",
      "\u001b[0;32m    193\u001b[0m     \u001b[38;5;28;01mreturn\u001b[39;00m \u001b[38;5;28mcls\u001b[39m\u001b[38;5;241m.\u001b[39m_simple_new(data, name\u001b[38;5;241m=\u001b[39mname)\n",
      "\u001b[0;32m    195\u001b[0m \u001b[38;5;66;03m#  error: Argument 1 of \"_simple_new\" is incompatible with supertype \"Index\";\u001b[39;00m\n",
      "\u001b[0;32m    196\u001b[0m \u001b[38;5;66;03m#  supertype defines the argument type as\u001b[39;00m\n",
      "\u001b[0;32m    197\u001b[0m \u001b[38;5;66;03m#  \"Union[ExtensionArray, ndarray[Any, Any]]\"  [override]\u001b[39;00m\n",
      "\u001b[1;32m--> 198\u001b[0m \u001b[38;5;129m@classmethod\u001b[39m\n",
      "\u001b[0;32m    199\u001b[0m \u001b[38;5;28;01mdef\u001b[39;00m \u001b[38;5;21m_simple_new\u001b[39m(  \u001b[38;5;66;03m# type: ignore[override]\u001b[39;00m\n",
      "\u001b[0;32m    200\u001b[0m     \u001b[38;5;28mcls\u001b[39m, values: \u001b[38;5;28mrange\u001b[39m, name: Hashable \u001b[38;5;241m|\u001b[39m \u001b[38;5;28;01mNone\u001b[39;00m \u001b[38;5;241m=\u001b[39m \u001b[38;5;28;01mNone\u001b[39;00m\n",
      "\u001b[0;32m    201\u001b[0m ) \u001b[38;5;241m-\u001b[39m\u001b[38;5;241m>\u001b[39m Self:\n",
      "\u001b[0;32m    202\u001b[0m     result \u001b[38;5;241m=\u001b[39m \u001b[38;5;28mobject\u001b[39m\u001b[38;5;241m.\u001b[39m\u001b[38;5;21m__new__\u001b[39m(\u001b[38;5;28mcls\u001b[39m)\n",
      "\u001b[0;32m    204\u001b[0m     \u001b[38;5;28;01massert\u001b[39;00m \u001b[38;5;28misinstance\u001b[39m(values, \u001b[38;5;28mrange\u001b[39m)\n",
      "\n",
      "\u001b[1;31mKeyboardInterrupt\u001b[0m: "
     ]
    }
   ],
   "source": [
    "activity_segments = segment_activities(32,2) #1/16\n",
    "model = fit_model(activity_segments)\n",
    "activity_segments = segment_activities(32,4) #1/8\n",
    "model = fit_model(activity_segments)\n",
    "activity_segments = segment_activities(32,8) #1/4\n",
    "model = fit_model(activity_segments)"
   ]
  },
  {
   "cell_type": "markdown",
   "metadata": {},
   "source": [
    "#### 3 Second"
   ]
  },
  {
   "cell_type": "code",
   "execution_count": null,
   "metadata": {},
   "outputs": [],
   "source": [
    "activity_segments = segment_activities(96,6) #1/16\n",
    "model = fit_model(activity_segments)\n",
    "activity_segments = segment_activities(96,12) #1/8\n",
    "model = fit_model(activity_segments)\n",
    "activity_segments = segment_activities(96,24) #1/4\n",
    "model = fit_model(activity_segments)"
   ]
  },
  {
   "cell_type": "markdown",
   "metadata": {},
   "source": [
    "#### 5 Second"
   ]
  },
  {
   "cell_type": "code",
   "execution_count": null,
   "metadata": {},
   "outputs": [],
   "source": [
    "activity_segments = segment_activities(160,10) #1/16\n",
    "model = fit_model(activity_segments)\n",
    "activity_segments = segment_activities(160,20) #1/8\n",
    "model = fit_model(activity_segments)\n",
    "activity_segments = segment_activities(160,40) #1/4\n",
    "model = fit_model(activity_segments)"
   ]
  }
 ],
 "metadata": {
  "kernelspec": {
   "display_name": "Python 3",
   "language": "python",
   "name": "python3"
  },
  "language_info": {
   "codemirror_mode": {
    "name": "ipython",
    "version": 3
   },
   "file_extension": ".py",
   "mimetype": "text/x-python",
   "name": "python",
   "nbconvert_exporter": "python",
   "pygments_lexer": "ipython3",
   "version": "3.11.5"
  }
 },
 "nbformat": 4,
 "nbformat_minor": 2
}
