{
 "cells": [
  {
   "cell_type": "code",
   "execution_count": null,
   "metadata": {},
   "outputs": [],
   "source": [
    "import pandas as pd\n",
    "import matplotlib \n",
    "import os\n"
   ]
  },
  {
   "cell_type": "code",
   "execution_count": null,
   "metadata": {},
   "outputs": [],
   "source": [
    "# arg -  src dir\n",
    "# return val - array of dfs containing csv data from src\n",
    "def read_data(src): \n",
    "    #to-do\n",
    "    return None"
   ]
  },
  {
   "cell_type": "code",
   "execution_count": null,
   "metadata": {},
   "outputs": [],
   "source": [
    "# arg - arrays of dfs containing csv data\n",
    "# return - None, renders interactive graph interface\n",
    "def display_data(src):\n",
    "    #to-do\n",
    "    return None"
   ]
  },
  {
   "cell_type": "code",
   "execution_count": null,
   "metadata": {},
   "outputs": [],
   "source": [
    "# arg - arrays of dfs containing csv data\n",
    "# return - arrays of dfs containing csv data which has been cleaned, perform signal processing by creating additional methods\n",
    "def filter_data(src):\n",
    "    # to-do\n",
    "    return None\n"
   ]
  }
 ],
 "metadata": {
  "language_info": {
   "name": "python"
  },
  "orig_nbformat": 4
 },
 "nbformat": 4,
 "nbformat_minor": 2
}
