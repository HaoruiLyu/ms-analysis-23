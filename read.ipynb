{
 "cells": [
  {
   "cell_type": "code",
   "execution_count": 1,
   "metadata": {},
   "outputs": [],
   "source": [
    "# this block initializes the structs for storing acitivities and patients\n",
    "\n",
    "import os\n",
    "from datetime import datetime\n",
    "import pandas as pd\n",
    "import time\n",
    "from patient import Patient, Activity\n"
   ]
  },
  {
   "cell_type": "code",
   "execution_count": 2,
   "metadata": {},
   "outputs": [],
   "source": [
    "src = './data/HOA Data'\n",
    "# to-do\n",
    "\n",
    "excel = './data/HOA Data/chi_unix.xlsx'\n",
    "excel = pd.read_excel(excel)\n",
    "\n",
    "\n",
    "activities = []\n",
    "ids = []\n",
    "patients = []\n",
    "\n",
    "for i in range(len(excel)):\n",
    "    row = excel.iloc[i]\n",
    "    if row['Subject Index'] not in ids:\n",
    "        ids.append(row['Subject Index'])\n",
    "\n",
    "for id in ids:\n",
    "    # fetch all activities for each patients\n",
    "    activities = []\n",
    "    min_time = -1\n",
    "    for i in range(len(excel)):\n",
    "        act = excel.iloc[i]\n",
    "        if act['Subject Index'] == id:\n",
    "            if min_time <1 or min_time>=act['Record Time']:\n",
    "                min_time = act['Record Time']\n",
    "            activities.append(Activity(\n",
    "                act['Activity'], act['Length'], act['Record Time'], act['Subject Index']))\n",
    "            \n",
    "    patient = Patient(id, 0, activities, [None], 0, min_time)\n",
    "    patients.append(patient)\n",
    "\n"
   ]
  },
  {
   "cell_type": "code",
   "execution_count": 3,
   "metadata": {},
   "outputs": [],
   "source": [
    "#load in csvs\n",
    "src = './data/HOA Data'\n",
    "csv_file = []\n",
    "\n",
    "\n",
    "for path, subdirs, files in os.walk(src):\n",
    "    for name in files:  # for every file in this directory\n",
    "        file = os.path.join(path, name)\n",
    "\n",
    "        if 'ACC.csv' in file:  # if file name contains acc.csv, read data\n",
    "            acc = pd.read_csv(file)\n",
    "            csv_file.append(acc)  # append to a list\n"
   ]
  },
  {
   "cell_type": "code",
   "execution_count": 9,
   "metadata": {},
   "outputs": [
    {
     "ename": "ValueError",
     "evalue": "Unable to coerce to Series, length must be 3: given 39",
     "output_type": "error",
     "traceback": [
      "\u001b[0;31m---------------------------------------------------------------------------\u001b[0m",
      "\u001b[0;31mValueError\u001b[0m                                Traceback (most recent call last)",
      "\u001b[1;32m/home/prakhar/code/uiuc/mfprl/ms/read.ipynb Cell 4\u001b[0m line \u001b[0;36m1\n\u001b[1;32m      <a href='vscode-notebook-cell:/home/prakhar/code/uiuc/mfprl/ms/read.ipynb#W3sZmlsZQ%3D%3D?line=7'>8</a>\u001b[0m         patient\u001b[39m.\u001b[39mclean_acc(csv)\n\u001b[1;32m      <a href='vscode-notebook-cell:/home/prakhar/code/uiuc/mfprl/ms/read.ipynb#W3sZmlsZQ%3D%3D?line=8'>9</a>\u001b[0m         patient\u001b[39m.\u001b[39mcsv_time \u001b[39m=\u001b[39m time\n\u001b[0;32m---> <a href='vscode-notebook-cell:/home/prakhar/code/uiuc/mfprl/ms/read.ipynb#W3sZmlsZQ%3D%3D?line=9'>10</a>\u001b[0m     csv_file\u001b[39m-\u001b[39m\u001b[39m=\u001b[39mcsv\n\u001b[1;32m     <a href='vscode-notebook-cell:/home/prakhar/code/uiuc/mfprl/ms/read.ipynb#W3sZmlsZQ%3D%3D?line=10'>11</a>\u001b[0m \u001b[39mprint\u001b[39m(patient\u001b[39m.\u001b[39mtldr())\n",
      "File \u001b[0;32m~/.local/lib/python3.10/site-packages/pandas/core/ops/common.py:70\u001b[0m, in \u001b[0;36m_unpack_zerodim_and_defer.<locals>.new_method\u001b[0;34m(self, other)\u001b[0m\n\u001b[1;32m     66\u001b[0m             \u001b[39mreturn\u001b[39;00m \u001b[39mNotImplemented\u001b[39m\n\u001b[1;32m     68\u001b[0m other \u001b[39m=\u001b[39m item_from_zerodim(other)\n\u001b[0;32m---> 70\u001b[0m \u001b[39mreturn\u001b[39;00m method(\u001b[39mself\u001b[39;49m, other)\n",
      "File \u001b[0;32m~/.local/lib/python3.10/site-packages/pandas/core/arraylike.py:112\u001b[0m, in \u001b[0;36mOpsMixin.__rsub__\u001b[0;34m(self, other)\u001b[0m\n\u001b[1;32m    110\u001b[0m \u001b[39m@unpack_zerodim_and_defer\u001b[39m(\u001b[39m\"\u001b[39m\u001b[39m__rsub__\u001b[39m\u001b[39m\"\u001b[39m)\n\u001b[1;32m    111\u001b[0m \u001b[39mdef\u001b[39;00m \u001b[39m__rsub__\u001b[39m(\u001b[39mself\u001b[39m, other):\n\u001b[0;32m--> 112\u001b[0m     \u001b[39mreturn\u001b[39;00m \u001b[39mself\u001b[39;49m\u001b[39m.\u001b[39;49m_arith_method(other, roperator\u001b[39m.\u001b[39;49mrsub)\n",
      "File \u001b[0;32m~/.local/lib/python3.10/site-packages/pandas/core/frame.py:6950\u001b[0m, in \u001b[0;36mDataFrame._arith_method\u001b[0;34m(self, other, op)\u001b[0m\n\u001b[1;32m   6947\u001b[0m axis \u001b[39m=\u001b[39m \u001b[39m1\u001b[39m  \u001b[39m# only relevant for Series other case\u001b[39;00m\n\u001b[1;32m   6948\u001b[0m other \u001b[39m=\u001b[39m ops\u001b[39m.\u001b[39mmaybe_prepare_scalar_for_op(other, (\u001b[39mself\u001b[39m\u001b[39m.\u001b[39mshape[axis],))\n\u001b[0;32m-> 6950\u001b[0m \u001b[39mself\u001b[39m, other \u001b[39m=\u001b[39m ops\u001b[39m.\u001b[39;49malign_method_FRAME(\u001b[39mself\u001b[39;49m, other, axis, flex\u001b[39m=\u001b[39;49m\u001b[39mTrue\u001b[39;49;00m, level\u001b[39m=\u001b[39;49m\u001b[39mNone\u001b[39;49;00m)\n\u001b[1;32m   6952\u001b[0m new_data \u001b[39m=\u001b[39m \u001b[39mself\u001b[39m\u001b[39m.\u001b[39m_dispatch_frame_op(other, op, axis\u001b[39m=\u001b[39maxis)\n\u001b[1;32m   6953\u001b[0m \u001b[39mreturn\u001b[39;00m \u001b[39mself\u001b[39m\u001b[39m.\u001b[39m_construct_result(new_data)\n",
      "File \u001b[0;32m~/.local/lib/python3.10/site-packages/pandas/core/ops/__init__.py:282\u001b[0m, in \u001b[0;36malign_method_FRAME\u001b[0;34m(left, right, axis, flex, level)\u001b[0m\n\u001b[1;32m    278\u001b[0m         \u001b[39mraise\u001b[39;00m \u001b[39mValueError\u001b[39;00m(\n\u001b[1;32m    279\u001b[0m             \u001b[39mf\u001b[39m\u001b[39m\"\u001b[39m\u001b[39mUnable to coerce list of \u001b[39m\u001b[39m{\u001b[39;00m\u001b[39mtype\u001b[39m(right[\u001b[39m0\u001b[39m])\u001b[39m}\u001b[39;00m\u001b[39m to Series/DataFrame\u001b[39m\u001b[39m\"\u001b[39m\n\u001b[1;32m    280\u001b[0m         )\n\u001b[1;32m    281\u001b[0m     \u001b[39m# GH17901\u001b[39;00m\n\u001b[0;32m--> 282\u001b[0m     right \u001b[39m=\u001b[39m to_series(right)\n\u001b[1;32m    284\u001b[0m \u001b[39mif\u001b[39;00m flex \u001b[39mis\u001b[39;00m \u001b[39mnot\u001b[39;00m \u001b[39mNone\u001b[39;00m \u001b[39mand\u001b[39;00m \u001b[39misinstance\u001b[39m(right, ABCDataFrame):\n\u001b[1;32m    285\u001b[0m     \u001b[39mif\u001b[39;00m \u001b[39mnot\u001b[39;00m left\u001b[39m.\u001b[39m_indexed_same(right):\n",
      "File \u001b[0;32m~/.local/lib/python3.10/site-packages/pandas/core/ops/__init__.py:239\u001b[0m, in \u001b[0;36malign_method_FRAME.<locals>.to_series\u001b[0;34m(right)\u001b[0m\n\u001b[1;32m    237\u001b[0m \u001b[39melse\u001b[39;00m:\n\u001b[1;32m    238\u001b[0m     \u001b[39mif\u001b[39;00m \u001b[39mlen\u001b[39m(left\u001b[39m.\u001b[39mcolumns) \u001b[39m!=\u001b[39m \u001b[39mlen\u001b[39m(right):\n\u001b[0;32m--> 239\u001b[0m         \u001b[39mraise\u001b[39;00m \u001b[39mValueError\u001b[39;00m(\n\u001b[1;32m    240\u001b[0m             msg\u001b[39m.\u001b[39mformat(req_len\u001b[39m=\u001b[39m\u001b[39mlen\u001b[39m(left\u001b[39m.\u001b[39mcolumns), given_len\u001b[39m=\u001b[39m\u001b[39mlen\u001b[39m(right))\n\u001b[1;32m    241\u001b[0m         )\n\u001b[1;32m    242\u001b[0m     right \u001b[39m=\u001b[39m left\u001b[39m.\u001b[39m_constructor_sliced(right, index\u001b[39m=\u001b[39mleft\u001b[39m.\u001b[39mcolumns)\n\u001b[1;32m    243\u001b[0m \u001b[39mreturn\u001b[39;00m right\n",
      "\u001b[0;31mValueError\u001b[0m: Unable to coerce to Series, length must be 3: given 39"
     ]
    }
   ],
   "source": [
    "for patient in patients:\n",
    "    #for every unique patient - cross reference csvs\n",
    "    buffer = 2*60*60\n",
    "    for csv in csv_file:\n",
    "        time = float(csv.columns.values[0])\n",
    "        if time >= (patient.excel_time - buffer) or time <= (patient.excel_time +buffer):  # within buffer\n",
    "            \n",
    "            patient.clean_acc(csv)\n",
    "            patient.csv_time = time\n",
    "        csv_file-=csv\n",
    "    print(patient.tldr())\n",
    "\n"
   ]
  },
  {
   "cell_type": "code",
   "execution_count": null,
   "metadata": {},
   "outputs": [],
   "source": []
  }
 ],
 "metadata": {
  "kernelspec": {
   "display_name": "Python 3",
   "language": "python",
   "name": "python3"
  },
  "language_info": {
   "codemirror_mode": {
    "name": "ipython",
    "version": 3
   },
   "file_extension": ".py",
   "mimetype": "text/x-python",
   "name": "python",
   "nbconvert_exporter": "python",
   "pygments_lexer": "ipython3",
   "version": "3.10.12"
  }
 },
 "nbformat": 4,
 "nbformat_minor": 2
}
